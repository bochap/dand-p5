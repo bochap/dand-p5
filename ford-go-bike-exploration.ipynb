{
 "cells": [
  {
   "cell_type": "markdown",
   "metadata": {},
   "source": [
    "# Ford GoBike System Data Usage Patterns\n",
    "## by Darren Seet\n",
    "\n",
    "## Preliminary Wrangling\n",
    "\n",
    "> This data set contains anonymized trip data from the Bay Wheels bicycle sharing service operated by Bay Area Motivate, LLC (\"Motivate\"). Motivate is an organization that is committed to supporting bicycling as an alternative transportation option. The organization operates multiple bicycle sharing service progams. This dataset contains the data from the Ford GoBike program which is the second largest bike share program in the US with 7,000 bikes, serving San Francisco, San Jose and the East Bay. The dataset contains data for the full year of 2018, 2019 and partial data in 2017, 2020. This project will only look into the data for 2018 and 2019."
   ]
  },
  {
   "cell_type": "code",
   "execution_count": 1,
   "metadata": {},
   "outputs": [],
   "source": [
    "# import all packages and set plots to be embedded inline\n",
    "import numpy as np\n",
    "import pandas as pd\n",
    "import matplotlib.pyplot as plt\n",
    "import seaborn as sb\n",
    "import glob\n",
    "import requests\n",
    "import os\n",
    "from zipfile import ZipFile"
   ]
  },
  {
   "cell_type": "markdown",
   "metadata": {},
   "source": [
    "## Configuration"
   ]
  },
  {
   "cell_type": "code",
   "execution_count": 2,
   "metadata": {},
   "outputs": [],
   "source": [
    "%matplotlib inline\n",
    "pandas_version = pd.__version__.split(\".\")\n",
    "pd.set_eng_float_format(accuracy=6, use_eng_prefix=True)\n",
    "plot_color = sb.color_palette()[0]\n"
   ]
  },
  {
   "cell_type": "markdown",
   "metadata": {},
   "source": [
    "### Common Useful functions"
   ]
  },
  {
   "cell_type": "code",
   "execution_count": 3,
   "metadata": {},
   "outputs": [],
   "source": [
    "def convert_to_ordered_category(series, categories):\n",
    "    \"\"\"Function to convert a series to an ordered category series\n",
    "\n",
    "    Arguments:\n",
    "    series --  Series to be converted\n",
    "    categories -- Categories to be ordered\n",
    "    \"\"\"    \n",
    "    if (int(pandas_version[0]) > 0) or (int(pandas_version[1]) >= 21): # v0.21 or later\n",
    "        categories_ordered = pd.api.types.CategoricalDtype(ordered = True, categories = categories)\n",
    "        return series.astype(categories_ordered)\n",
    "    else: # compatibility for v.20\n",
    "        return series.astype(\n",
    "            'category', ordered = True,\n",
    "             categories = categories\n",
    "        )\n",
    "    \n",
    "def set_heatmap(ax, data, title, xlabel, ylabel):\n",
    "    \"\"\"Function to create a heatmap\n",
    "\n",
    "    Arguments:\n",
    "    ax -- Axes to plot\n",
    "    data -- data source to be plotted\n",
    "    title -- title of the plot\n",
    "    xlabel -- label for x axis of plot\n",
    "    ylabel -- label for y axis of plot\n",
    "    \"\"\"\n",
    "    sb.heatmap(data, cmap='Blues', ax=ax);\n",
    "    ax.set_title(title, loc='right', fontsize = 16);\n",
    "    ax.set_xlabel(xlabel, fontsize = 14);\n",
    "    ax.set_ylabel(ylabel, fontsize = 14);\n",
    "    \n",
    "def get_day_of_week_hour_count_for_dataframe(df_target):\n",
    "    \"\"\"Function to create a dataset for analysing the count by day of week and hour\n",
    "\n",
    "    Arguments:\n",
    "    df_target -- data source to be used for creating dataset\n",
    "    \"\"\"\n",
    "    df_count = df_target.groupby(['day_of_week', 'hour']).size()\n",
    "    df_count = df_count.reset_index(name='count')\n",
    "    df_count = df_count.pivot(index='day_of_week', columns='hour', values='count')\n",
    "    return df_count\n",
    "\n",
    "def get_file_names(year):\n",
    "    # Files after 2019-04 appear to be named as yyyyMM-baywheels-tripdata.csv\n",
    "    return [\n",
    "        f\"{year}{month:02d}-fordgobike-tripdata.csv.zip\" if (year != 2019 or month < 5) else f\"{year}{month:02d}-baywheels-tripdata.csv.zip\" for month in range(1, 13) \n",
    "    ]\n",
    "\n",
    "def download_data_files(year):\n",
    "    path = \"data\"\n",
    "    if not os.path.exists(path):\n",
    "        os.makedirs(path)\n",
    "    \n",
    "    for file_name in get_file_names(year):\n",
    "        try:\n",
    "            with open(f\"{path}/{file_name}\", 'wb') as file:\n",
    "                file_request = requests.get(f\"https://s3.amazonaws.com/baywheels-data/{file_name}\")\n",
    "                file.write(file_request.content)\n",
    "                print(f\"Downloaded {path}/{file_name}\")\n",
    "        except Exception as e:\n",
    "            print(f\"failed to get {file_name}: {e}\")        \n",
    "        \n",
    "def extract_data_files(year):\n",
    "    for file_name in get_file_names(year):\n",
    "        try:\n",
    "            with ZipFile(f\"data/{file_name}\") as zf:\n",
    "                csv_file = file_name.replace(\".zip\", \"\")\n",
    "                zf.extract(csv_file, path=\"data\", pwd=None)\n",
    "                print(f\"Extracted data/{csv_file}\")    \n",
    "        except Exception as e:\n",
    "            print(f\"failed to get {file_name}: {e}\")          "
   ]
  },
  {
   "cell_type": "markdown",
   "metadata": {},
   "source": [
    "### Gather\n",
    "\n",
    "#### Download Files"
   ]
  },
  {
   "cell_type": "code",
   "execution_count": 4,
   "metadata": {},
   "outputs": [
    {
     "name": "stdout",
     "output_type": "stream",
     "text": [
      "Downloaded data/201801-fordgobike-tripdata.csv.zip\n",
      "Downloaded data/201802-fordgobike-tripdata.csv.zip\n",
      "Downloaded data/201803-fordgobike-tripdata.csv.zip\n",
      "Downloaded data/201804-fordgobike-tripdata.csv.zip\n",
      "Downloaded data/201805-fordgobike-tripdata.csv.zip\n",
      "Downloaded data/201806-fordgobike-tripdata.csv.zip\n",
      "Downloaded data/201807-fordgobike-tripdata.csv.zip\n",
      "Downloaded data/201808-fordgobike-tripdata.csv.zip\n",
      "Downloaded data/201809-fordgobike-tripdata.csv.zip\n",
      "Downloaded data/201810-fordgobike-tripdata.csv.zip\n",
      "Downloaded data/201811-fordgobike-tripdata.csv.zip\n",
      "Downloaded data/201812-fordgobike-tripdata.csv.zip\n",
      "Downloaded data/201901-fordgobike-tripdata.csv.zip\n",
      "Downloaded data/201902-fordgobike-tripdata.csv.zip\n",
      "Downloaded data/201903-fordgobike-tripdata.csv.zip\n",
      "Downloaded data/201904-fordgobike-tripdata.csv.zip\n",
      "Downloaded data/201905-baywheels-tripdata.csv.zip\n",
      "Downloaded data/201906-baywheels-tripdata.csv.zip\n",
      "Downloaded data/201907-baywheels-tripdata.csv.zip\n",
      "Downloaded data/201908-baywheels-tripdata.csv.zip\n",
      "Downloaded data/201909-baywheels-tripdata.csv.zip\n",
      "Downloaded data/201910-baywheels-tripdata.csv.zip\n",
      "Downloaded data/201911-baywheels-tripdata.csv.zip\n",
      "Downloaded data/201912-baywheels-tripdata.csv.zip\n"
     ]
    }
   ],
   "source": [
    "download_data_files(2018)\n",
    "download_data_files(2019)"
   ]
  },
  {
   "cell_type": "markdown",
   "metadata": {},
   "source": [
    "#### Extract Csv\n",
    "\n",
    "Original zip files contains MacOS related hidden files when ran on MacOS which causes the Pandas `read_csv` operation to fail to process the zip files. This step extracts the plain `.csv`. files for processing."
   ]
  },
  {
   "cell_type": "code",
   "execution_count": 5,
   "metadata": {},
   "outputs": [
    {
     "name": "stdout",
     "output_type": "stream",
     "text": [
      "Extracted data/201801-fordgobike-tripdata.csv\n",
      "Extracted data/201802-fordgobike-tripdata.csv\n",
      "Extracted data/201803-fordgobike-tripdata.csv\n",
      "Extracted data/201804-fordgobike-tripdata.csv\n",
      "Extracted data/201805-fordgobike-tripdata.csv\n",
      "Extracted data/201806-fordgobike-tripdata.csv\n",
      "Extracted data/201807-fordgobike-tripdata.csv\n",
      "Extracted data/201808-fordgobike-tripdata.csv\n",
      "Extracted data/201809-fordgobike-tripdata.csv\n",
      "Extracted data/201810-fordgobike-tripdata.csv\n",
      "Extracted data/201811-fordgobike-tripdata.csv\n",
      "Extracted data/201812-fordgobike-tripdata.csv\n",
      "Extracted data/201901-fordgobike-tripdata.csv\n",
      "Extracted data/201902-fordgobike-tripdata.csv\n",
      "Extracted data/201903-fordgobike-tripdata.csv\n",
      "Extracted data/201904-fordgobike-tripdata.csv\n",
      "Extracted data/201905-baywheels-tripdata.csv\n",
      "Extracted data/201906-baywheels-tripdata.csv\n",
      "Extracted data/201907-baywheels-tripdata.csv\n",
      "Extracted data/201908-baywheels-tripdata.csv\n",
      "Extracted data/201909-baywheels-tripdata.csv\n",
      "Extracted data/201910-baywheels-tripdata.csv\n",
      "Extracted data/201911-baywheels-tripdata.csv\n",
      "Extracted data/201912-baywheels-tripdata.csv\n"
     ]
    }
   ],
   "source": [
    "extract_data_files(2018)\n",
    "extract_data_files(2019)"
   ]
  },
  {
   "cell_type": "markdown",
   "metadata": {},
   "source": [
    "#### Load Data"
   ]
  },
  {
   "cell_type": "code",
   "execution_count": 6,
   "metadata": {},
   "outputs": [
    {
     "data": {
      "text/html": [
       "<div>\n",
       "<style scoped>\n",
       "    .dataframe tbody tr th:only-of-type {\n",
       "        vertical-align: middle;\n",
       "    }\n",
       "\n",
       "    .dataframe tbody tr th {\n",
       "        vertical-align: top;\n",
       "    }\n",
       "\n",
       "    .dataframe thead th {\n",
       "        text-align: right;\n",
       "    }\n",
       "</style>\n",
       "<table border=\"1\" class=\"dataframe\">\n",
       "  <thead>\n",
       "    <tr style=\"text-align: right;\">\n",
       "      <th></th>\n",
       "      <th>duration_sec</th>\n",
       "      <th>start_time</th>\n",
       "      <th>end_time</th>\n",
       "      <th>start_station_id</th>\n",
       "      <th>start_station_name</th>\n",
       "      <th>start_station_latitude</th>\n",
       "      <th>start_station_longitude</th>\n",
       "      <th>end_station_id</th>\n",
       "      <th>end_station_name</th>\n",
       "      <th>end_station_latitude</th>\n",
       "      <th>end_station_longitude</th>\n",
       "      <th>bike_id</th>\n",
       "      <th>user_type</th>\n",
       "      <th>bike_share_for_all_trip</th>\n",
       "      <th>rental_access_method</th>\n",
       "    </tr>\n",
       "  </thead>\n",
       "  <tbody>\n",
       "    <tr>\n",
       "      <th>0</th>\n",
       "      <td>598</td>\n",
       "      <td>2018-02-28 23:59:47.0970</td>\n",
       "      <td>2018-03-01 00:09:45.1870</td>\n",
       "      <td>284.000000</td>\n",
       "      <td>Yerba Buena Center for the Arts (Howard St at ...</td>\n",
       "      <td>37.784872</td>\n",
       "      <td>-122.400876</td>\n",
       "      <td>114.000000</td>\n",
       "      <td>Rhode Island St at 17th St</td>\n",
       "      <td>37.764478</td>\n",
       "      <td>-122.402570</td>\n",
       "      <td>1035</td>\n",
       "      <td>Subscriber</td>\n",
       "      <td>No</td>\n",
       "      <td>NaN</td>\n",
       "    </tr>\n",
       "    <tr>\n",
       "      <th>1</th>\n",
       "      <td>943</td>\n",
       "      <td>2018-02-28 23:21:16.4950</td>\n",
       "      <td>2018-02-28 23:36:59.9740</td>\n",
       "      <td>6.000000</td>\n",
       "      <td>The Embarcadero at Sansome St</td>\n",
       "      <td>37.804770</td>\n",
       "      <td>-122.403234</td>\n",
       "      <td>324.000000</td>\n",
       "      <td>Union Square (Powell St at Post St)</td>\n",
       "      <td>37.788300</td>\n",
       "      <td>-122.408531</td>\n",
       "      <td>1673</td>\n",
       "      <td>Customer</td>\n",
       "      <td>No</td>\n",
       "      <td>NaN</td>\n",
       "    </tr>\n",
       "    <tr>\n",
       "      <th>2</th>\n",
       "      <td>18587</td>\n",
       "      <td>2018-02-28 18:20:55.1900</td>\n",
       "      <td>2018-02-28 23:30:42.9250</td>\n",
       "      <td>93.000000</td>\n",
       "      <td>4th St at Mission Bay Blvd S</td>\n",
       "      <td>37.770407</td>\n",
       "      <td>-122.391198</td>\n",
       "      <td>15.000000</td>\n",
       "      <td>San Francisco Ferry Building (Harry Bridges Pl...</td>\n",
       "      <td>37.795392</td>\n",
       "      <td>-122.394203</td>\n",
       "      <td>3498</td>\n",
       "      <td>Customer</td>\n",
       "      <td>No</td>\n",
       "      <td>NaN</td>\n",
       "    </tr>\n",
       "    <tr>\n",
       "      <th>3</th>\n",
       "      <td>18558</td>\n",
       "      <td>2018-02-28 18:20:53.6210</td>\n",
       "      <td>2018-02-28 23:30:12.4500</td>\n",
       "      <td>93.000000</td>\n",
       "      <td>4th St at Mission Bay Blvd S</td>\n",
       "      <td>37.770407</td>\n",
       "      <td>-122.391198</td>\n",
       "      <td>15.000000</td>\n",
       "      <td>San Francisco Ferry Building (Harry Bridges Pl...</td>\n",
       "      <td>37.795392</td>\n",
       "      <td>-122.394203</td>\n",
       "      <td>3129</td>\n",
       "      <td>Customer</td>\n",
       "      <td>No</td>\n",
       "      <td>NaN</td>\n",
       "    </tr>\n",
       "    <tr>\n",
       "      <th>4</th>\n",
       "      <td>885</td>\n",
       "      <td>2018-02-28 23:15:12.8580</td>\n",
       "      <td>2018-02-28 23:29:58.6080</td>\n",
       "      <td>308.000000</td>\n",
       "      <td>San Pedro Square</td>\n",
       "      <td>37.336802</td>\n",
       "      <td>-121.894090</td>\n",
       "      <td>297.000000</td>\n",
       "      <td>Locust St at Grant St</td>\n",
       "      <td>37.322980</td>\n",
       "      <td>-121.887931</td>\n",
       "      <td>1839</td>\n",
       "      <td>Subscriber</td>\n",
       "      <td>Yes</td>\n",
       "      <td>NaN</td>\n",
       "    </tr>\n",
       "  </tbody>\n",
       "</table>\n",
       "</div>"
      ],
      "text/plain": [
       "   duration_sec                start_time                  end_time  \\\n",
       "0           598  2018-02-28 23:59:47.0970  2018-03-01 00:09:45.1870   \n",
       "1           943  2018-02-28 23:21:16.4950  2018-02-28 23:36:59.9740   \n",
       "2         18587  2018-02-28 18:20:55.1900  2018-02-28 23:30:42.9250   \n",
       "3         18558  2018-02-28 18:20:53.6210  2018-02-28 23:30:12.4500   \n",
       "4           885  2018-02-28 23:15:12.8580  2018-02-28 23:29:58.6080   \n",
       "\n",
       "   start_station_id                                 start_station_name  \\\n",
       "0        284.000000  Yerba Buena Center for the Arts (Howard St at ...   \n",
       "1          6.000000                      The Embarcadero at Sansome St   \n",
       "2         93.000000                       4th St at Mission Bay Blvd S   \n",
       "3         93.000000                       4th St at Mission Bay Blvd S   \n",
       "4        308.000000                                   San Pedro Square   \n",
       "\n",
       "   start_station_latitude  start_station_longitude  end_station_id  \\\n",
       "0               37.784872              -122.400876      114.000000   \n",
       "1               37.804770              -122.403234      324.000000   \n",
       "2               37.770407              -122.391198       15.000000   \n",
       "3               37.770407              -122.391198       15.000000   \n",
       "4               37.336802              -121.894090      297.000000   \n",
       "\n",
       "                                    end_station_name  end_station_latitude  \\\n",
       "0                         Rhode Island St at 17th St             37.764478   \n",
       "1                Union Square (Powell St at Post St)             37.788300   \n",
       "2  San Francisco Ferry Building (Harry Bridges Pl...             37.795392   \n",
       "3  San Francisco Ferry Building (Harry Bridges Pl...             37.795392   \n",
       "4                              Locust St at Grant St             37.322980   \n",
       "\n",
       "   end_station_longitude  bike_id   user_type bike_share_for_all_trip  \\\n",
       "0            -122.402570     1035  Subscriber                      No   \n",
       "1            -122.408531     1673    Customer                      No   \n",
       "2            -122.394203     3498    Customer                      No   \n",
       "3            -122.394203     3129    Customer                      No   \n",
       "4            -121.887931     1839  Subscriber                     Yes   \n",
       "\n",
       "  rental_access_method  \n",
       "0                  NaN  \n",
       "1                  NaN  \n",
       "2                  NaN  \n",
       "3                  NaN  \n",
       "4                  NaN  "
      ]
     },
     "execution_count": 6,
     "metadata": {},
     "output_type": "execute_result"
    }
   ],
   "source": [
    "df_original = pd.concat([ pd.read_csv(file, low_memory=False) for file in glob.glob(\"data/*.csv\") ])\n",
    "df = df_original.copy()\n",
    "df.head()"
   ]
  },
  {
   "cell_type": "markdown",
   "metadata": {},
   "source": [
    "### Null Checking\n",
    "\n",
    "This section runs a check through the data population for null values in all the columns. "
   ]
  },
  {
   "cell_type": "code",
   "execution_count": 7,
   "metadata": {
    "scrolled": true
   },
   "outputs": [
    {
     "name": "stdout",
     "output_type": "stream",
     "text": [
      "Total population count: 4370704\n"
     ]
    },
    {
     "data": {
      "text/plain": [
       "duration_sec                     0\n",
       "start_time                       0\n",
       "end_time                         0\n",
       "start_station_id             92505\n",
       "start_station_name           91904\n",
       "start_station_latitude           0\n",
       "start_station_longitude          0\n",
       "end_station_id               94673\n",
       "end_station_name             94121\n",
       "end_station_latitude             0\n",
       "end_station_longitude            0\n",
       "bike_id                          0\n",
       "user_type                        0\n",
       "bike_share_for_all_trip     243259\n",
       "rental_access_method       4249866\n",
       "dtype: int64"
      ]
     },
     "metadata": {},
     "output_type": "display_data"
    }
   ],
   "source": [
    "print(f\"Total population count: {df.shape[0]}\")\n",
    "display(df.isnull().sum())"
   ]
  },
  {
   "cell_type": "markdown",
   "metadata": {},
   "source": [
    "#### Null Handling\n",
    "\n",
    "Null values are found in the columns\n",
    "1. `start_station_id`\n",
    "2. `start_station_name`\n",
    "3. `end_station_id`\n",
    "4. `end_station_name`\n",
    "5. `rental_access_method`\n",
    "6. `bike_share_for_all_trip`\n",
    "\n",
    "For the project columns `rental_access_method` and `bike_share_for_all_trip` will be dropped since they are not among the features chosen for analysis.\n",
    "\n",
    "After dropping the columns, we will then drop the records with null values in the `start_station_xx` and `end_station_xx` columns. This action will remove 100,000 records out of the total population of 4,370,704 observations between 2018 and 2019.\n",
    "\n",
    "This project will the column `rental_access_method` and `bike_share_for_all_trip` which is unused. It will also  remove about 100,000 records out of 4,370,704 that contains null values for the period between 2018 and 2019"
   ]
  },
  {
   "cell_type": "code",
   "execution_count": 8,
   "metadata": {},
   "outputs": [
    {
     "name": "stdout",
     "output_type": "stream",
     "text": [
      "Non Null Total population count: 4259209\n"
     ]
    },
    {
     "data": {
      "text/plain": [
       "duration_sec               0\n",
       "start_time                 0\n",
       "end_time                   0\n",
       "start_station_id           0\n",
       "start_station_name         0\n",
       "start_station_latitude     0\n",
       "start_station_longitude    0\n",
       "end_station_id             0\n",
       "end_station_name           0\n",
       "end_station_latitude       0\n",
       "end_station_longitude      0\n",
       "bike_id                    0\n",
       "user_type                  0\n",
       "dtype: int64"
      ]
     },
     "metadata": {},
     "output_type": "display_data"
    }
   ],
   "source": [
    "df.drop([\"bike_share_for_all_trip\", \"rental_access_method\"], axis=1, inplace=True)  \n",
    "df.dropna(inplace=True)\n",
    "print(f\"Non Null Total population count: {df.shape[0]}\")\n",
    "display(df.isnull().sum())"
   ]
  },
  {
   "cell_type": "markdown",
   "metadata": {},
   "source": [
    "### Augument Data\n",
    "\n",
    "In this section, fields are added or modified to make the analysis process and easier. \n",
    "\n",
    "The fields that are added are:\n",
    "1. year - year from start_time \n",
    "2. month - month from start_time\n",
    "3. day of week - day of week from start_time  \n",
    "4. hour - hour from start_time\n",
    "5. duration - duration_sec convert to minutes\n",
    "6. duration_group - duration convert to ordered category\n",
    "\n",
    "The fields that are modified are:\n",
    "1. user_type - converted to an ordered category\n",
    "2. start_station_id - Type conversion to int\n",
    "3. end_station_id - Type conversion to int\n",
    "4. start_time - Type conversion to datetime\n",
    "5. end_time - Type conversion to datetime"
   ]
  },
  {
   "cell_type": "markdown",
   "metadata": {},
   "source": [
    "#### `start_station_id` and `end_station_id`\n",
    "\n",
    "`start_station_id` and `end_station_id` appear to be of the wrong type `float64` for id values.  This is most likely due to NaN values causing Pandas to treat them as floats.  As part of the cleaning the columns will be converted to int64 with the null values as 0."
   ]
  },
  {
   "cell_type": "code",
   "execution_count": 9,
   "metadata": {
    "scrolled": true
   },
   "outputs": [
    {
     "name": "stdout",
     "output_type": "stream",
     "text": [
      "<class 'pandas.core.frame.DataFrame'>\n",
      "Int64Index: 4259209 entries, 0 to 183411\n",
      "Data columns (total 13 columns):\n",
      " #   Column                   Dtype  \n",
      "---  ------                   -----  \n",
      " 0   duration_sec             int64  \n",
      " 1   start_time               object \n",
      " 2   end_time                 object \n",
      " 3   start_station_id         float64\n",
      " 4   start_station_name       object \n",
      " 5   start_station_latitude   float64\n",
      " 6   start_station_longitude  float64\n",
      " 7   end_station_id           float64\n",
      " 8   end_station_name         object \n",
      " 9   end_station_latitude     float64\n",
      " 10  end_station_longitude    float64\n",
      " 11  bike_id                  int64  \n",
      " 12  user_type                object \n",
      "dtypes: float64(6), int64(2), object(5)\n",
      "memory usage: 454.9+ MB\n",
      "<class 'pandas.core.frame.DataFrame'>\n",
      "Int64Index: 4259209 entries, 0 to 183411\n",
      "Data columns (total 13 columns):\n",
      " #   Column                   Dtype  \n",
      "---  ------                   -----  \n",
      " 0   duration_sec             int64  \n",
      " 1   start_time               object \n",
      " 2   end_time                 object \n",
      " 3   start_station_id         int64  \n",
      " 4   start_station_name       object \n",
      " 5   start_station_latitude   float64\n",
      " 6   start_station_longitude  float64\n",
      " 7   end_station_id           int64  \n",
      " 8   end_station_name         object \n",
      " 9   end_station_latitude     float64\n",
      " 10  end_station_longitude    float64\n",
      " 11  bike_id                  int64  \n",
      " 12  user_type                object \n",
      "dtypes: float64(4), int64(4), object(5)\n",
      "memory usage: 454.9+ MB\n"
     ]
    }
   ],
   "source": [
    "df.info()\n",
    "df[\"start_station_id\"] = df.start_station_id.astype(\"int64\")\n",
    "df[\"end_station_id\"] = df.end_station_id.astype(\"int64\")\n",
    "df.info()"
   ]
  },
  {
   "cell_type": "markdown",
   "metadata": {},
   "source": [
    "#### `start_time` and `end_time`\n",
    "\n",
    "`start_time` and `end_time` appear to be of the wrong type `object` (string). The project converts them to datetime for meaninful analysis."
   ]
  },
  {
   "cell_type": "code",
   "execution_count": 10,
   "metadata": {},
   "outputs": [],
   "source": [
    "df[\"start_time\"] = pd.to_datetime(df[\"start_time\"])\n",
    "df[\"end_time\"] = pd.to_datetime(df[\"end_time\"])"
   ]
  },
  {
   "cell_type": "markdown",
   "metadata": {},
   "source": [
    "#### `user_type`\n",
    "\n",
    "`user_type` is converted into an ordered category series. This allows the more important users `Subscribers to be displyed first in a plot`."
   ]
  },
  {
   "cell_type": "code",
   "execution_count": 11,
   "metadata": {},
   "outputs": [],
   "source": [
    "df[\"user_type\"] = convert_to_ordered_category(df[\"user_type\"], [\"Subscriber\", \"Customer\"])"
   ]
  },
  {
   "cell_type": "markdown",
   "metadata": {},
   "source": [
    "#### Year columns\n",
    "\n",
    "Creating `year` columns for analysis by year"
   ]
  },
  {
   "cell_type": "code",
   "execution_count": 12,
   "metadata": {
    "scrolled": false
   },
   "outputs": [
    {
     "data": {
      "text/html": [
       "<div>\n",
       "<style scoped>\n",
       "    .dataframe tbody tr th:only-of-type {\n",
       "        vertical-align: middle;\n",
       "    }\n",
       "\n",
       "    .dataframe tbody tr th {\n",
       "        vertical-align: top;\n",
       "    }\n",
       "\n",
       "    .dataframe thead th {\n",
       "        text-align: right;\n",
       "    }\n",
       "</style>\n",
       "<table border=\"1\" class=\"dataframe\">\n",
       "  <thead>\n",
       "    <tr style=\"text-align: right;\">\n",
       "      <th></th>\n",
       "      <th>duration_sec</th>\n",
       "      <th>start_time</th>\n",
       "      <th>end_time</th>\n",
       "      <th>start_station_id</th>\n",
       "      <th>start_station_name</th>\n",
       "      <th>start_station_latitude</th>\n",
       "      <th>start_station_longitude</th>\n",
       "      <th>end_station_id</th>\n",
       "      <th>end_station_name</th>\n",
       "      <th>end_station_latitude</th>\n",
       "      <th>end_station_longitude</th>\n",
       "      <th>bike_id</th>\n",
       "      <th>user_type</th>\n",
       "      <th>year</th>\n",
       "    </tr>\n",
       "  </thead>\n",
       "  <tbody>\n",
       "    <tr>\n",
       "      <th>0</th>\n",
       "      <td>598</td>\n",
       "      <td>2018-02-28 23:59:47.097</td>\n",
       "      <td>2018-03-01 00:09:45.187</td>\n",
       "      <td>284</td>\n",
       "      <td>Yerba Buena Center for the Arts (Howard St at ...</td>\n",
       "      <td>37.784872</td>\n",
       "      <td>-122.400876</td>\n",
       "      <td>114</td>\n",
       "      <td>Rhode Island St at 17th St</td>\n",
       "      <td>37.764478</td>\n",
       "      <td>-122.402570</td>\n",
       "      <td>1035</td>\n",
       "      <td>Subscriber</td>\n",
       "      <td>2018</td>\n",
       "    </tr>\n",
       "    <tr>\n",
       "      <th>1</th>\n",
       "      <td>943</td>\n",
       "      <td>2018-02-28 23:21:16.495</td>\n",
       "      <td>2018-02-28 23:36:59.974</td>\n",
       "      <td>6</td>\n",
       "      <td>The Embarcadero at Sansome St</td>\n",
       "      <td>37.804770</td>\n",
       "      <td>-122.403234</td>\n",
       "      <td>324</td>\n",
       "      <td>Union Square (Powell St at Post St)</td>\n",
       "      <td>37.788300</td>\n",
       "      <td>-122.408531</td>\n",
       "      <td>1673</td>\n",
       "      <td>Customer</td>\n",
       "      <td>2018</td>\n",
       "    </tr>\n",
       "    <tr>\n",
       "      <th>2</th>\n",
       "      <td>18587</td>\n",
       "      <td>2018-02-28 18:20:55.190</td>\n",
       "      <td>2018-02-28 23:30:42.925</td>\n",
       "      <td>93</td>\n",
       "      <td>4th St at Mission Bay Blvd S</td>\n",
       "      <td>37.770407</td>\n",
       "      <td>-122.391198</td>\n",
       "      <td>15</td>\n",
       "      <td>San Francisco Ferry Building (Harry Bridges Pl...</td>\n",
       "      <td>37.795392</td>\n",
       "      <td>-122.394203</td>\n",
       "      <td>3498</td>\n",
       "      <td>Customer</td>\n",
       "      <td>2018</td>\n",
       "    </tr>\n",
       "    <tr>\n",
       "      <th>3</th>\n",
       "      <td>18558</td>\n",
       "      <td>2018-02-28 18:20:53.621</td>\n",
       "      <td>2018-02-28 23:30:12.450</td>\n",
       "      <td>93</td>\n",
       "      <td>4th St at Mission Bay Blvd S</td>\n",
       "      <td>37.770407</td>\n",
       "      <td>-122.391198</td>\n",
       "      <td>15</td>\n",
       "      <td>San Francisco Ferry Building (Harry Bridges Pl...</td>\n",
       "      <td>37.795392</td>\n",
       "      <td>-122.394203</td>\n",
       "      <td>3129</td>\n",
       "      <td>Customer</td>\n",
       "      <td>2018</td>\n",
       "    </tr>\n",
       "    <tr>\n",
       "      <th>4</th>\n",
       "      <td>885</td>\n",
       "      <td>2018-02-28 23:15:12.858</td>\n",
       "      <td>2018-02-28 23:29:58.608</td>\n",
       "      <td>308</td>\n",
       "      <td>San Pedro Square</td>\n",
       "      <td>37.336802</td>\n",
       "      <td>-121.894090</td>\n",
       "      <td>297</td>\n",
       "      <td>Locust St at Grant St</td>\n",
       "      <td>37.322980</td>\n",
       "      <td>-121.887931</td>\n",
       "      <td>1839</td>\n",
       "      <td>Subscriber</td>\n",
       "      <td>2018</td>\n",
       "    </tr>\n",
       "  </tbody>\n",
       "</table>\n",
       "</div>"
      ],
      "text/plain": [
       "   duration_sec              start_time                end_time  \\\n",
       "0           598 2018-02-28 23:59:47.097 2018-03-01 00:09:45.187   \n",
       "1           943 2018-02-28 23:21:16.495 2018-02-28 23:36:59.974   \n",
       "2         18587 2018-02-28 18:20:55.190 2018-02-28 23:30:42.925   \n",
       "3         18558 2018-02-28 18:20:53.621 2018-02-28 23:30:12.450   \n",
       "4           885 2018-02-28 23:15:12.858 2018-02-28 23:29:58.608   \n",
       "\n",
       "   start_station_id                                 start_station_name  \\\n",
       "0               284  Yerba Buena Center for the Arts (Howard St at ...   \n",
       "1                 6                      The Embarcadero at Sansome St   \n",
       "2                93                       4th St at Mission Bay Blvd S   \n",
       "3                93                       4th St at Mission Bay Blvd S   \n",
       "4               308                                   San Pedro Square   \n",
       "\n",
       "   start_station_latitude  start_station_longitude  end_station_id  \\\n",
       "0               37.784872              -122.400876             114   \n",
       "1               37.804770              -122.403234             324   \n",
       "2               37.770407              -122.391198              15   \n",
       "3               37.770407              -122.391198              15   \n",
       "4               37.336802              -121.894090             297   \n",
       "\n",
       "                                    end_station_name  end_station_latitude  \\\n",
       "0                         Rhode Island St at 17th St             37.764478   \n",
       "1                Union Square (Powell St at Post St)             37.788300   \n",
       "2  San Francisco Ferry Building (Harry Bridges Pl...             37.795392   \n",
       "3  San Francisco Ferry Building (Harry Bridges Pl...             37.795392   \n",
       "4                              Locust St at Grant St             37.322980   \n",
       "\n",
       "   end_station_longitude  bike_id   user_type  year  \n",
       "0            -122.402570     1035  Subscriber  2018  \n",
       "1            -122.408531     1673    Customer  2018  \n",
       "2            -122.394203     3498    Customer  2018  \n",
       "3            -122.394203     3129    Customer  2018  \n",
       "4            -121.887931     1839  Subscriber  2018  "
      ]
     },
     "execution_count": 12,
     "metadata": {},
     "output_type": "execute_result"
    }
   ],
   "source": [
    "df[\"year\"] = df.start_time.dt.year\n",
    "df.head()"
   ]
  },
  {
   "cell_type": "markdown",
   "metadata": {},
   "source": [
    "#### Month columns\n",
    "\n",
    "Creating `month` for analysis by month"
   ]
  },
  {
   "cell_type": "code",
   "execution_count": 13,
   "metadata": {
    "scrolled": true
   },
   "outputs": [
    {
     "data": {
      "text/html": [
       "<div>\n",
       "<style scoped>\n",
       "    .dataframe tbody tr th:only-of-type {\n",
       "        vertical-align: middle;\n",
       "    }\n",
       "\n",
       "    .dataframe tbody tr th {\n",
       "        vertical-align: top;\n",
       "    }\n",
       "\n",
       "    .dataframe thead th {\n",
       "        text-align: right;\n",
       "    }\n",
       "</style>\n",
       "<table border=\"1\" class=\"dataframe\">\n",
       "  <thead>\n",
       "    <tr style=\"text-align: right;\">\n",
       "      <th></th>\n",
       "      <th>duration_sec</th>\n",
       "      <th>start_time</th>\n",
       "      <th>end_time</th>\n",
       "      <th>start_station_id</th>\n",
       "      <th>start_station_name</th>\n",
       "      <th>start_station_latitude</th>\n",
       "      <th>start_station_longitude</th>\n",
       "      <th>end_station_id</th>\n",
       "      <th>end_station_name</th>\n",
       "      <th>end_station_latitude</th>\n",
       "      <th>end_station_longitude</th>\n",
       "      <th>bike_id</th>\n",
       "      <th>user_type</th>\n",
       "      <th>year</th>\n",
       "      <th>month</th>\n",
       "    </tr>\n",
       "  </thead>\n",
       "  <tbody>\n",
       "    <tr>\n",
       "      <th>0</th>\n",
       "      <td>598</td>\n",
       "      <td>2018-02-28 23:59:47.097</td>\n",
       "      <td>2018-03-01 00:09:45.187</td>\n",
       "      <td>284</td>\n",
       "      <td>Yerba Buena Center for the Arts (Howard St at ...</td>\n",
       "      <td>37.784872</td>\n",
       "      <td>-122.400876</td>\n",
       "      <td>114</td>\n",
       "      <td>Rhode Island St at 17th St</td>\n",
       "      <td>37.764478</td>\n",
       "      <td>-122.402570</td>\n",
       "      <td>1035</td>\n",
       "      <td>Subscriber</td>\n",
       "      <td>2018</td>\n",
       "      <td>2</td>\n",
       "    </tr>\n",
       "    <tr>\n",
       "      <th>1</th>\n",
       "      <td>943</td>\n",
       "      <td>2018-02-28 23:21:16.495</td>\n",
       "      <td>2018-02-28 23:36:59.974</td>\n",
       "      <td>6</td>\n",
       "      <td>The Embarcadero at Sansome St</td>\n",
       "      <td>37.804770</td>\n",
       "      <td>-122.403234</td>\n",
       "      <td>324</td>\n",
       "      <td>Union Square (Powell St at Post St)</td>\n",
       "      <td>37.788300</td>\n",
       "      <td>-122.408531</td>\n",
       "      <td>1673</td>\n",
       "      <td>Customer</td>\n",
       "      <td>2018</td>\n",
       "      <td>2</td>\n",
       "    </tr>\n",
       "    <tr>\n",
       "      <th>2</th>\n",
       "      <td>18587</td>\n",
       "      <td>2018-02-28 18:20:55.190</td>\n",
       "      <td>2018-02-28 23:30:42.925</td>\n",
       "      <td>93</td>\n",
       "      <td>4th St at Mission Bay Blvd S</td>\n",
       "      <td>37.770407</td>\n",
       "      <td>-122.391198</td>\n",
       "      <td>15</td>\n",
       "      <td>San Francisco Ferry Building (Harry Bridges Pl...</td>\n",
       "      <td>37.795392</td>\n",
       "      <td>-122.394203</td>\n",
       "      <td>3498</td>\n",
       "      <td>Customer</td>\n",
       "      <td>2018</td>\n",
       "      <td>2</td>\n",
       "    </tr>\n",
       "    <tr>\n",
       "      <th>3</th>\n",
       "      <td>18558</td>\n",
       "      <td>2018-02-28 18:20:53.621</td>\n",
       "      <td>2018-02-28 23:30:12.450</td>\n",
       "      <td>93</td>\n",
       "      <td>4th St at Mission Bay Blvd S</td>\n",
       "      <td>37.770407</td>\n",
       "      <td>-122.391198</td>\n",
       "      <td>15</td>\n",
       "      <td>San Francisco Ferry Building (Harry Bridges Pl...</td>\n",
       "      <td>37.795392</td>\n",
       "      <td>-122.394203</td>\n",
       "      <td>3129</td>\n",
       "      <td>Customer</td>\n",
       "      <td>2018</td>\n",
       "      <td>2</td>\n",
       "    </tr>\n",
       "    <tr>\n",
       "      <th>4</th>\n",
       "      <td>885</td>\n",
       "      <td>2018-02-28 23:15:12.858</td>\n",
       "      <td>2018-02-28 23:29:58.608</td>\n",
       "      <td>308</td>\n",
       "      <td>San Pedro Square</td>\n",
       "      <td>37.336802</td>\n",
       "      <td>-121.894090</td>\n",
       "      <td>297</td>\n",
       "      <td>Locust St at Grant St</td>\n",
       "      <td>37.322980</td>\n",
       "      <td>-121.887931</td>\n",
       "      <td>1839</td>\n",
       "      <td>Subscriber</td>\n",
       "      <td>2018</td>\n",
       "      <td>2</td>\n",
       "    </tr>\n",
       "  </tbody>\n",
       "</table>\n",
       "</div>"
      ],
      "text/plain": [
       "   duration_sec              start_time                end_time  \\\n",
       "0           598 2018-02-28 23:59:47.097 2018-03-01 00:09:45.187   \n",
       "1           943 2018-02-28 23:21:16.495 2018-02-28 23:36:59.974   \n",
       "2         18587 2018-02-28 18:20:55.190 2018-02-28 23:30:42.925   \n",
       "3         18558 2018-02-28 18:20:53.621 2018-02-28 23:30:12.450   \n",
       "4           885 2018-02-28 23:15:12.858 2018-02-28 23:29:58.608   \n",
       "\n",
       "   start_station_id                                 start_station_name  \\\n",
       "0               284  Yerba Buena Center for the Arts (Howard St at ...   \n",
       "1                 6                      The Embarcadero at Sansome St   \n",
       "2                93                       4th St at Mission Bay Blvd S   \n",
       "3                93                       4th St at Mission Bay Blvd S   \n",
       "4               308                                   San Pedro Square   \n",
       "\n",
       "   start_station_latitude  start_station_longitude  end_station_id  \\\n",
       "0               37.784872              -122.400876             114   \n",
       "1               37.804770              -122.403234             324   \n",
       "2               37.770407              -122.391198              15   \n",
       "3               37.770407              -122.391198              15   \n",
       "4               37.336802              -121.894090             297   \n",
       "\n",
       "                                    end_station_name  end_station_latitude  \\\n",
       "0                         Rhode Island St at 17th St             37.764478   \n",
       "1                Union Square (Powell St at Post St)             37.788300   \n",
       "2  San Francisco Ferry Building (Harry Bridges Pl...             37.795392   \n",
       "3  San Francisco Ferry Building (Harry Bridges Pl...             37.795392   \n",
       "4                              Locust St at Grant St             37.322980   \n",
       "\n",
       "   end_station_longitude  bike_id   user_type  year  month  \n",
       "0            -122.402570     1035  Subscriber  2018      2  \n",
       "1            -122.408531     1673    Customer  2018      2  \n",
       "2            -122.394203     3498    Customer  2018      2  \n",
       "3            -122.394203     3129    Customer  2018      2  \n",
       "4            -121.887931     1839  Subscriber  2018      2  "
      ]
     },
     "execution_count": 13,
     "metadata": {},
     "output_type": "execute_result"
    }
   ],
   "source": [
    "df[\"month\"] = df.start_time.dt.month\n",
    "df.head()"
   ]
  },
  {
   "cell_type": "markdown",
   "metadata": {},
   "source": [
    "#### Day of week columns\n",
    "\n",
    "`dayofweek` returns a numeric value from 0-6 where 0 represents Monday and 6 represents Sunday. This section creates the `day_of_week` column with values of Monday, Tuesday, Wednesday, Thursday, Friday, Saturday, Sunday in a sorted order. This will allow analysis by day of week."
   ]
  },
  {
   "cell_type": "code",
   "execution_count": 14,
   "metadata": {},
   "outputs": [
    {
     "data": {
      "text/html": [
       "<div>\n",
       "<style scoped>\n",
       "    .dataframe tbody tr th:only-of-type {\n",
       "        vertical-align: middle;\n",
       "    }\n",
       "\n",
       "    .dataframe tbody tr th {\n",
       "        vertical-align: top;\n",
       "    }\n",
       "\n",
       "    .dataframe thead th {\n",
       "        text-align: right;\n",
       "    }\n",
       "</style>\n",
       "<table border=\"1\" class=\"dataframe\">\n",
       "  <thead>\n",
       "    <tr style=\"text-align: right;\">\n",
       "      <th></th>\n",
       "      <th>duration_sec</th>\n",
       "      <th>start_time</th>\n",
       "      <th>end_time</th>\n",
       "      <th>start_station_id</th>\n",
       "      <th>start_station_name</th>\n",
       "      <th>start_station_latitude</th>\n",
       "      <th>start_station_longitude</th>\n",
       "      <th>end_station_id</th>\n",
       "      <th>end_station_name</th>\n",
       "      <th>end_station_latitude</th>\n",
       "      <th>end_station_longitude</th>\n",
       "      <th>bike_id</th>\n",
       "      <th>user_type</th>\n",
       "      <th>year</th>\n",
       "      <th>month</th>\n",
       "      <th>day_of_week</th>\n",
       "    </tr>\n",
       "  </thead>\n",
       "  <tbody>\n",
       "    <tr>\n",
       "      <th>0</th>\n",
       "      <td>598</td>\n",
       "      <td>2018-02-28 23:59:47.097</td>\n",
       "      <td>2018-03-01 00:09:45.187</td>\n",
       "      <td>284</td>\n",
       "      <td>Yerba Buena Center for the Arts (Howard St at ...</td>\n",
       "      <td>37.784872</td>\n",
       "      <td>-122.400876</td>\n",
       "      <td>114</td>\n",
       "      <td>Rhode Island St at 17th St</td>\n",
       "      <td>37.764478</td>\n",
       "      <td>-122.402570</td>\n",
       "      <td>1035</td>\n",
       "      <td>Subscriber</td>\n",
       "      <td>2018</td>\n",
       "      <td>2</td>\n",
       "      <td>Wednesday</td>\n",
       "    </tr>\n",
       "    <tr>\n",
       "      <th>1</th>\n",
       "      <td>943</td>\n",
       "      <td>2018-02-28 23:21:16.495</td>\n",
       "      <td>2018-02-28 23:36:59.974</td>\n",
       "      <td>6</td>\n",
       "      <td>The Embarcadero at Sansome St</td>\n",
       "      <td>37.804770</td>\n",
       "      <td>-122.403234</td>\n",
       "      <td>324</td>\n",
       "      <td>Union Square (Powell St at Post St)</td>\n",
       "      <td>37.788300</td>\n",
       "      <td>-122.408531</td>\n",
       "      <td>1673</td>\n",
       "      <td>Customer</td>\n",
       "      <td>2018</td>\n",
       "      <td>2</td>\n",
       "      <td>Wednesday</td>\n",
       "    </tr>\n",
       "    <tr>\n",
       "      <th>2</th>\n",
       "      <td>18587</td>\n",
       "      <td>2018-02-28 18:20:55.190</td>\n",
       "      <td>2018-02-28 23:30:42.925</td>\n",
       "      <td>93</td>\n",
       "      <td>4th St at Mission Bay Blvd S</td>\n",
       "      <td>37.770407</td>\n",
       "      <td>-122.391198</td>\n",
       "      <td>15</td>\n",
       "      <td>San Francisco Ferry Building (Harry Bridges Pl...</td>\n",
       "      <td>37.795392</td>\n",
       "      <td>-122.394203</td>\n",
       "      <td>3498</td>\n",
       "      <td>Customer</td>\n",
       "      <td>2018</td>\n",
       "      <td>2</td>\n",
       "      <td>Wednesday</td>\n",
       "    </tr>\n",
       "    <tr>\n",
       "      <th>3</th>\n",
       "      <td>18558</td>\n",
       "      <td>2018-02-28 18:20:53.621</td>\n",
       "      <td>2018-02-28 23:30:12.450</td>\n",
       "      <td>93</td>\n",
       "      <td>4th St at Mission Bay Blvd S</td>\n",
       "      <td>37.770407</td>\n",
       "      <td>-122.391198</td>\n",
       "      <td>15</td>\n",
       "      <td>San Francisco Ferry Building (Harry Bridges Pl...</td>\n",
       "      <td>37.795392</td>\n",
       "      <td>-122.394203</td>\n",
       "      <td>3129</td>\n",
       "      <td>Customer</td>\n",
       "      <td>2018</td>\n",
       "      <td>2</td>\n",
       "      <td>Wednesday</td>\n",
       "    </tr>\n",
       "    <tr>\n",
       "      <th>4</th>\n",
       "      <td>885</td>\n",
       "      <td>2018-02-28 23:15:12.858</td>\n",
       "      <td>2018-02-28 23:29:58.608</td>\n",
       "      <td>308</td>\n",
       "      <td>San Pedro Square</td>\n",
       "      <td>37.336802</td>\n",
       "      <td>-121.894090</td>\n",
       "      <td>297</td>\n",
       "      <td>Locust St at Grant St</td>\n",
       "      <td>37.322980</td>\n",
       "      <td>-121.887931</td>\n",
       "      <td>1839</td>\n",
       "      <td>Subscriber</td>\n",
       "      <td>2018</td>\n",
       "      <td>2</td>\n",
       "      <td>Wednesday</td>\n",
       "    </tr>\n",
       "  </tbody>\n",
       "</table>\n",
       "</div>"
      ],
      "text/plain": [
       "   duration_sec              start_time                end_time  \\\n",
       "0           598 2018-02-28 23:59:47.097 2018-03-01 00:09:45.187   \n",
       "1           943 2018-02-28 23:21:16.495 2018-02-28 23:36:59.974   \n",
       "2         18587 2018-02-28 18:20:55.190 2018-02-28 23:30:42.925   \n",
       "3         18558 2018-02-28 18:20:53.621 2018-02-28 23:30:12.450   \n",
       "4           885 2018-02-28 23:15:12.858 2018-02-28 23:29:58.608   \n",
       "\n",
       "   start_station_id                                 start_station_name  \\\n",
       "0               284  Yerba Buena Center for the Arts (Howard St at ...   \n",
       "1                 6                      The Embarcadero at Sansome St   \n",
       "2                93                       4th St at Mission Bay Blvd S   \n",
       "3                93                       4th St at Mission Bay Blvd S   \n",
       "4               308                                   San Pedro Square   \n",
       "\n",
       "   start_station_latitude  start_station_longitude  end_station_id  \\\n",
       "0               37.784872              -122.400876             114   \n",
       "1               37.804770              -122.403234             324   \n",
       "2               37.770407              -122.391198              15   \n",
       "3               37.770407              -122.391198              15   \n",
       "4               37.336802              -121.894090             297   \n",
       "\n",
       "                                    end_station_name  end_station_latitude  \\\n",
       "0                         Rhode Island St at 17th St             37.764478   \n",
       "1                Union Square (Powell St at Post St)             37.788300   \n",
       "2  San Francisco Ferry Building (Harry Bridges Pl...             37.795392   \n",
       "3  San Francisco Ferry Building (Harry Bridges Pl...             37.795392   \n",
       "4                              Locust St at Grant St             37.322980   \n",
       "\n",
       "   end_station_longitude  bike_id   user_type  year  month day_of_week  \n",
       "0            -122.402570     1035  Subscriber  2018      2   Wednesday  \n",
       "1            -122.408531     1673    Customer  2018      2   Wednesday  \n",
       "2            -122.394203     3498    Customer  2018      2   Wednesday  \n",
       "3            -122.394203     3129    Customer  2018      2   Wednesday  \n",
       "4            -121.887931     1839  Subscriber  2018      2   Wednesday  "
      ]
     },
     "execution_count": 14,
     "metadata": {},
     "output_type": "execute_result"
    }
   ],
   "source": [
    "day_of_week = [\n",
    "    \"Monday\", \"Tuesday\",\"Wednesday\", \"Thursday\", \"Friday\", \"Saturday\", \"Sunday\"\n",
    "]\n",
    "\n",
    "def day_of_week_category(row, date_column):\n",
    "    return day_of_week[row[date_column].dayofweek]\n",
    "\n",
    "df[\"day_of_week\"] = df.apply(lambda row: day_of_week_category(row, \"start_time\"), axis = 1)\n",
    "df[\"day_of_week\"] = convert_to_ordered_category(df[\"day_of_week\"], day_of_week)\n",
    "    \n",
    "df.head()"
   ]
  },
  {
   "cell_type": "markdown",
   "metadata": {},
   "source": [
    "#### Hour columns\n",
    "\n",
    "Creating `hour` columns for analysis by hour of day"
   ]
  },
  {
   "cell_type": "code",
   "execution_count": 15,
   "metadata": {
    "scrolled": true
   },
   "outputs": [
    {
     "data": {
      "text/html": [
       "<div>\n",
       "<style scoped>\n",
       "    .dataframe tbody tr th:only-of-type {\n",
       "        vertical-align: middle;\n",
       "    }\n",
       "\n",
       "    .dataframe tbody tr th {\n",
       "        vertical-align: top;\n",
       "    }\n",
       "\n",
       "    .dataframe thead th {\n",
       "        text-align: right;\n",
       "    }\n",
       "</style>\n",
       "<table border=\"1\" class=\"dataframe\">\n",
       "  <thead>\n",
       "    <tr style=\"text-align: right;\">\n",
       "      <th></th>\n",
       "      <th>duration_sec</th>\n",
       "      <th>start_time</th>\n",
       "      <th>end_time</th>\n",
       "      <th>start_station_id</th>\n",
       "      <th>start_station_name</th>\n",
       "      <th>start_station_latitude</th>\n",
       "      <th>start_station_longitude</th>\n",
       "      <th>end_station_id</th>\n",
       "      <th>end_station_name</th>\n",
       "      <th>end_station_latitude</th>\n",
       "      <th>end_station_longitude</th>\n",
       "      <th>bike_id</th>\n",
       "      <th>user_type</th>\n",
       "      <th>year</th>\n",
       "      <th>month</th>\n",
       "      <th>day_of_week</th>\n",
       "      <th>hour</th>\n",
       "    </tr>\n",
       "  </thead>\n",
       "  <tbody>\n",
       "    <tr>\n",
       "      <th>0</th>\n",
       "      <td>598</td>\n",
       "      <td>2018-02-28 23:59:47.097</td>\n",
       "      <td>2018-03-01 00:09:45.187</td>\n",
       "      <td>284</td>\n",
       "      <td>Yerba Buena Center for the Arts (Howard St at ...</td>\n",
       "      <td>37.784872</td>\n",
       "      <td>-122.400876</td>\n",
       "      <td>114</td>\n",
       "      <td>Rhode Island St at 17th St</td>\n",
       "      <td>37.764478</td>\n",
       "      <td>-122.402570</td>\n",
       "      <td>1035</td>\n",
       "      <td>Subscriber</td>\n",
       "      <td>2018</td>\n",
       "      <td>2</td>\n",
       "      <td>Wednesday</td>\n",
       "      <td>23</td>\n",
       "    </tr>\n",
       "    <tr>\n",
       "      <th>1</th>\n",
       "      <td>943</td>\n",
       "      <td>2018-02-28 23:21:16.495</td>\n",
       "      <td>2018-02-28 23:36:59.974</td>\n",
       "      <td>6</td>\n",
       "      <td>The Embarcadero at Sansome St</td>\n",
       "      <td>37.804770</td>\n",
       "      <td>-122.403234</td>\n",
       "      <td>324</td>\n",
       "      <td>Union Square (Powell St at Post St)</td>\n",
       "      <td>37.788300</td>\n",
       "      <td>-122.408531</td>\n",
       "      <td>1673</td>\n",
       "      <td>Customer</td>\n",
       "      <td>2018</td>\n",
       "      <td>2</td>\n",
       "      <td>Wednesday</td>\n",
       "      <td>23</td>\n",
       "    </tr>\n",
       "    <tr>\n",
       "      <th>2</th>\n",
       "      <td>18587</td>\n",
       "      <td>2018-02-28 18:20:55.190</td>\n",
       "      <td>2018-02-28 23:30:42.925</td>\n",
       "      <td>93</td>\n",
       "      <td>4th St at Mission Bay Blvd S</td>\n",
       "      <td>37.770407</td>\n",
       "      <td>-122.391198</td>\n",
       "      <td>15</td>\n",
       "      <td>San Francisco Ferry Building (Harry Bridges Pl...</td>\n",
       "      <td>37.795392</td>\n",
       "      <td>-122.394203</td>\n",
       "      <td>3498</td>\n",
       "      <td>Customer</td>\n",
       "      <td>2018</td>\n",
       "      <td>2</td>\n",
       "      <td>Wednesday</td>\n",
       "      <td>18</td>\n",
       "    </tr>\n",
       "    <tr>\n",
       "      <th>3</th>\n",
       "      <td>18558</td>\n",
       "      <td>2018-02-28 18:20:53.621</td>\n",
       "      <td>2018-02-28 23:30:12.450</td>\n",
       "      <td>93</td>\n",
       "      <td>4th St at Mission Bay Blvd S</td>\n",
       "      <td>37.770407</td>\n",
       "      <td>-122.391198</td>\n",
       "      <td>15</td>\n",
       "      <td>San Francisco Ferry Building (Harry Bridges Pl...</td>\n",
       "      <td>37.795392</td>\n",
       "      <td>-122.394203</td>\n",
       "      <td>3129</td>\n",
       "      <td>Customer</td>\n",
       "      <td>2018</td>\n",
       "      <td>2</td>\n",
       "      <td>Wednesday</td>\n",
       "      <td>18</td>\n",
       "    </tr>\n",
       "    <tr>\n",
       "      <th>4</th>\n",
       "      <td>885</td>\n",
       "      <td>2018-02-28 23:15:12.858</td>\n",
       "      <td>2018-02-28 23:29:58.608</td>\n",
       "      <td>308</td>\n",
       "      <td>San Pedro Square</td>\n",
       "      <td>37.336802</td>\n",
       "      <td>-121.894090</td>\n",
       "      <td>297</td>\n",
       "      <td>Locust St at Grant St</td>\n",
       "      <td>37.322980</td>\n",
       "      <td>-121.887931</td>\n",
       "      <td>1839</td>\n",
       "      <td>Subscriber</td>\n",
       "      <td>2018</td>\n",
       "      <td>2</td>\n",
       "      <td>Wednesday</td>\n",
       "      <td>23</td>\n",
       "    </tr>\n",
       "  </tbody>\n",
       "</table>\n",
       "</div>"
      ],
      "text/plain": [
       "   duration_sec              start_time                end_time  \\\n",
       "0           598 2018-02-28 23:59:47.097 2018-03-01 00:09:45.187   \n",
       "1           943 2018-02-28 23:21:16.495 2018-02-28 23:36:59.974   \n",
       "2         18587 2018-02-28 18:20:55.190 2018-02-28 23:30:42.925   \n",
       "3         18558 2018-02-28 18:20:53.621 2018-02-28 23:30:12.450   \n",
       "4           885 2018-02-28 23:15:12.858 2018-02-28 23:29:58.608   \n",
       "\n",
       "   start_station_id                                 start_station_name  \\\n",
       "0               284  Yerba Buena Center for the Arts (Howard St at ...   \n",
       "1                 6                      The Embarcadero at Sansome St   \n",
       "2                93                       4th St at Mission Bay Blvd S   \n",
       "3                93                       4th St at Mission Bay Blvd S   \n",
       "4               308                                   San Pedro Square   \n",
       "\n",
       "   start_station_latitude  start_station_longitude  end_station_id  \\\n",
       "0               37.784872              -122.400876             114   \n",
       "1               37.804770              -122.403234             324   \n",
       "2               37.770407              -122.391198              15   \n",
       "3               37.770407              -122.391198              15   \n",
       "4               37.336802              -121.894090             297   \n",
       "\n",
       "                                    end_station_name  end_station_latitude  \\\n",
       "0                         Rhode Island St at 17th St             37.764478   \n",
       "1                Union Square (Powell St at Post St)             37.788300   \n",
       "2  San Francisco Ferry Building (Harry Bridges Pl...             37.795392   \n",
       "3  San Francisco Ferry Building (Harry Bridges Pl...             37.795392   \n",
       "4                              Locust St at Grant St             37.322980   \n",
       "\n",
       "   end_station_longitude  bike_id   user_type  year  month day_of_week  hour  \n",
       "0            -122.402570     1035  Subscriber  2018      2   Wednesday    23  \n",
       "1            -122.408531     1673    Customer  2018      2   Wednesday    23  \n",
       "2            -122.394203     3498    Customer  2018      2   Wednesday    18  \n",
       "3            -122.394203     3129    Customer  2018      2   Wednesday    18  \n",
       "4            -121.887931     1839  Subscriber  2018      2   Wednesday    23  "
      ]
     },
     "execution_count": 15,
     "metadata": {},
     "output_type": "execute_result"
    }
   ],
   "source": [
    "df[\"hour\"] = df.start_time.dt.hour\n",
    "df.head()"
   ]
  },
  {
   "cell_type": "markdown",
   "metadata": {},
   "source": [
    "#### Duration column\n",
    "\n",
    "Creating `duration` columns for analysis of duration by minutes"
   ]
  },
  {
   "cell_type": "code",
   "execution_count": 16,
   "metadata": {
    "scrolled": false
   },
   "outputs": [
    {
     "data": {
      "text/html": [
       "<div>\n",
       "<style scoped>\n",
       "    .dataframe tbody tr th:only-of-type {\n",
       "        vertical-align: middle;\n",
       "    }\n",
       "\n",
       "    .dataframe tbody tr th {\n",
       "        vertical-align: top;\n",
       "    }\n",
       "\n",
       "    .dataframe thead th {\n",
       "        text-align: right;\n",
       "    }\n",
       "</style>\n",
       "<table border=\"1\" class=\"dataframe\">\n",
       "  <thead>\n",
       "    <tr style=\"text-align: right;\">\n",
       "      <th></th>\n",
       "      <th>duration_sec</th>\n",
       "      <th>start_time</th>\n",
       "      <th>end_time</th>\n",
       "      <th>start_station_id</th>\n",
       "      <th>start_station_name</th>\n",
       "      <th>start_station_latitude</th>\n",
       "      <th>start_station_longitude</th>\n",
       "      <th>end_station_id</th>\n",
       "      <th>end_station_name</th>\n",
       "      <th>end_station_latitude</th>\n",
       "      <th>end_station_longitude</th>\n",
       "      <th>bike_id</th>\n",
       "      <th>user_type</th>\n",
       "      <th>year</th>\n",
       "      <th>month</th>\n",
       "      <th>day_of_week</th>\n",
       "      <th>hour</th>\n",
       "      <th>duration</th>\n",
       "    </tr>\n",
       "  </thead>\n",
       "  <tbody>\n",
       "    <tr>\n",
       "      <th>0</th>\n",
       "      <td>598</td>\n",
       "      <td>2018-02-28 23:59:47.097</td>\n",
       "      <td>2018-03-01 00:09:45.187</td>\n",
       "      <td>284</td>\n",
       "      <td>Yerba Buena Center for the Arts (Howard St at ...</td>\n",
       "      <td>37.784872</td>\n",
       "      <td>-122.400876</td>\n",
       "      <td>114</td>\n",
       "      <td>Rhode Island St at 17th St</td>\n",
       "      <td>37.764478</td>\n",
       "      <td>-122.402570</td>\n",
       "      <td>1035</td>\n",
       "      <td>Subscriber</td>\n",
       "      <td>2018</td>\n",
       "      <td>2</td>\n",
       "      <td>Wednesday</td>\n",
       "      <td>23</td>\n",
       "      <td>9.966667</td>\n",
       "    </tr>\n",
       "    <tr>\n",
       "      <th>1</th>\n",
       "      <td>943</td>\n",
       "      <td>2018-02-28 23:21:16.495</td>\n",
       "      <td>2018-02-28 23:36:59.974</td>\n",
       "      <td>6</td>\n",
       "      <td>The Embarcadero at Sansome St</td>\n",
       "      <td>37.804770</td>\n",
       "      <td>-122.403234</td>\n",
       "      <td>324</td>\n",
       "      <td>Union Square (Powell St at Post St)</td>\n",
       "      <td>37.788300</td>\n",
       "      <td>-122.408531</td>\n",
       "      <td>1673</td>\n",
       "      <td>Customer</td>\n",
       "      <td>2018</td>\n",
       "      <td>2</td>\n",
       "      <td>Wednesday</td>\n",
       "      <td>23</td>\n",
       "      <td>15.716667</td>\n",
       "    </tr>\n",
       "    <tr>\n",
       "      <th>2</th>\n",
       "      <td>18587</td>\n",
       "      <td>2018-02-28 18:20:55.190</td>\n",
       "      <td>2018-02-28 23:30:42.925</td>\n",
       "      <td>93</td>\n",
       "      <td>4th St at Mission Bay Blvd S</td>\n",
       "      <td>37.770407</td>\n",
       "      <td>-122.391198</td>\n",
       "      <td>15</td>\n",
       "      <td>San Francisco Ferry Building (Harry Bridges Pl...</td>\n",
       "      <td>37.795392</td>\n",
       "      <td>-122.394203</td>\n",
       "      <td>3498</td>\n",
       "      <td>Customer</td>\n",
       "      <td>2018</td>\n",
       "      <td>2</td>\n",
       "      <td>Wednesday</td>\n",
       "      <td>18</td>\n",
       "      <td>309.783333</td>\n",
       "    </tr>\n",
       "    <tr>\n",
       "      <th>3</th>\n",
       "      <td>18558</td>\n",
       "      <td>2018-02-28 18:20:53.621</td>\n",
       "      <td>2018-02-28 23:30:12.450</td>\n",
       "      <td>93</td>\n",
       "      <td>4th St at Mission Bay Blvd S</td>\n",
       "      <td>37.770407</td>\n",
       "      <td>-122.391198</td>\n",
       "      <td>15</td>\n",
       "      <td>San Francisco Ferry Building (Harry Bridges Pl...</td>\n",
       "      <td>37.795392</td>\n",
       "      <td>-122.394203</td>\n",
       "      <td>3129</td>\n",
       "      <td>Customer</td>\n",
       "      <td>2018</td>\n",
       "      <td>2</td>\n",
       "      <td>Wednesday</td>\n",
       "      <td>18</td>\n",
       "      <td>309.300000</td>\n",
       "    </tr>\n",
       "    <tr>\n",
       "      <th>4</th>\n",
       "      <td>885</td>\n",
       "      <td>2018-02-28 23:15:12.858</td>\n",
       "      <td>2018-02-28 23:29:58.608</td>\n",
       "      <td>308</td>\n",
       "      <td>San Pedro Square</td>\n",
       "      <td>37.336802</td>\n",
       "      <td>-121.894090</td>\n",
       "      <td>297</td>\n",
       "      <td>Locust St at Grant St</td>\n",
       "      <td>37.322980</td>\n",
       "      <td>-121.887931</td>\n",
       "      <td>1839</td>\n",
       "      <td>Subscriber</td>\n",
       "      <td>2018</td>\n",
       "      <td>2</td>\n",
       "      <td>Wednesday</td>\n",
       "      <td>23</td>\n",
       "      <td>14.750000</td>\n",
       "    </tr>\n",
       "  </tbody>\n",
       "</table>\n",
       "</div>"
      ],
      "text/plain": [
       "   duration_sec              start_time                end_time  \\\n",
       "0           598 2018-02-28 23:59:47.097 2018-03-01 00:09:45.187   \n",
       "1           943 2018-02-28 23:21:16.495 2018-02-28 23:36:59.974   \n",
       "2         18587 2018-02-28 18:20:55.190 2018-02-28 23:30:42.925   \n",
       "3         18558 2018-02-28 18:20:53.621 2018-02-28 23:30:12.450   \n",
       "4           885 2018-02-28 23:15:12.858 2018-02-28 23:29:58.608   \n",
       "\n",
       "   start_station_id                                 start_station_name  \\\n",
       "0               284  Yerba Buena Center for the Arts (Howard St at ...   \n",
       "1                 6                      The Embarcadero at Sansome St   \n",
       "2                93                       4th St at Mission Bay Blvd S   \n",
       "3                93                       4th St at Mission Bay Blvd S   \n",
       "4               308                                   San Pedro Square   \n",
       "\n",
       "   start_station_latitude  start_station_longitude  end_station_id  \\\n",
       "0               37.784872              -122.400876             114   \n",
       "1               37.804770              -122.403234             324   \n",
       "2               37.770407              -122.391198              15   \n",
       "3               37.770407              -122.391198              15   \n",
       "4               37.336802              -121.894090             297   \n",
       "\n",
       "                                    end_station_name  end_station_latitude  \\\n",
       "0                         Rhode Island St at 17th St             37.764478   \n",
       "1                Union Square (Powell St at Post St)             37.788300   \n",
       "2  San Francisco Ferry Building (Harry Bridges Pl...             37.795392   \n",
       "3  San Francisco Ferry Building (Harry Bridges Pl...             37.795392   \n",
       "4                              Locust St at Grant St             37.322980   \n",
       "\n",
       "   end_station_longitude  bike_id   user_type  year  month day_of_week  hour  \\\n",
       "0            -122.402570     1035  Subscriber  2018      2   Wednesday    23   \n",
       "1            -122.408531     1673    Customer  2018      2   Wednesday    23   \n",
       "2            -122.394203     3498    Customer  2018      2   Wednesday    18   \n",
       "3            -122.394203     3129    Customer  2018      2   Wednesday    18   \n",
       "4            -121.887931     1839  Subscriber  2018      2   Wednesday    23   \n",
       "\n",
       "     duration  \n",
       "0    9.966667  \n",
       "1   15.716667  \n",
       "2  309.783333  \n",
       "3  309.300000  \n",
       "4   14.750000  "
      ]
     },
     "execution_count": 16,
     "metadata": {},
     "output_type": "execute_result"
    }
   ],
   "source": [
    "df[\"duration\"] = df.duration_sec / 60\n",
    "df.head()"
   ]
  },
  {
   "cell_type": "markdown",
   "metadata": {},
   "source": [
    "#### Duration Category\n",
    "\n",
    "Creating duration group to analysis the duration group that is most used by the users"
   ]
  },
  {
   "cell_type": "code",
   "execution_count": 17,
   "metadata": {},
   "outputs": [],
   "source": [
    "duration_category_groups = [\n",
    "    \">= 5\", \"< 5 and >= 10\", \"< 10 and <= 20\", \n",
    "    \"< 20 and <= 30\", \"< 30 and <= 40\", \"< 40 and <= 50\",\n",
    "    \"< 50 and <= 60\", \"> 60\"\n",
    "]\n",
    "\n",
    "def duration_category(row, duration_column):\n",
    "    if row[duration_column] <= 5:\n",
    "        return duration_category_groups[0] \n",
    "    elif row[duration_column] <= 10:\n",
    "        return duration_category_groups[1] \n",
    "    elif row[duration_column] <= 20:\n",
    "        return duration_category_groups[2]     \n",
    "    elif row[duration_column] <= 30:\n",
    "        return duration_category_groups[3]  \n",
    "    elif row[duration_column] <= 40:\n",
    "        return duration_category_groups[4] \n",
    "    elif row[duration_column] <= 50:\n",
    "        return duration_category_groups[5]\n",
    "    elif row[duration_column] <= 60:\n",
    "        return duration_category_groups[6] \n",
    "    return duration_category_groups[7]\n",
    "\n",
    "df[\"duration_group\"] = df.apply(lambda row: duration_category(row, \"duration\"), axis = 1)\n",
    "df[\"duration_group\"] = convert_to_ordered_category(df[\"duration_group\"], duration_category_groups)"
   ]
  },
  {
   "cell_type": "markdown",
   "metadata": {},
   "source": [
    "### Final Schema"
   ]
  },
  {
   "cell_type": "code",
   "execution_count": 18,
   "metadata": {},
   "outputs": [
    {
     "name": "stdout",
     "output_type": "stream",
     "text": [
      "<class 'pandas.core.frame.DataFrame'>\n",
      "Int64Index: 4259209 entries, 0 to 183411\n",
      "Data columns (total 19 columns):\n",
      " #   Column                   Dtype         \n",
      "---  ------                   -----         \n",
      " 0   duration_sec             int64         \n",
      " 1   start_time               datetime64[ns]\n",
      " 2   end_time                 datetime64[ns]\n",
      " 3   start_station_id         int64         \n",
      " 4   start_station_name       object        \n",
      " 5   start_station_latitude   float64       \n",
      " 6   start_station_longitude  float64       \n",
      " 7   end_station_id           int64         \n",
      " 8   end_station_name         object        \n",
      " 9   end_station_latitude     float64       \n",
      " 10  end_station_longitude    float64       \n",
      " 11  bike_id                  int64         \n",
      " 12  user_type                category      \n",
      " 13  year                     int64         \n",
      " 14  month                    int64         \n",
      " 15  day_of_week              category      \n",
      " 16  hour                     int64         \n",
      " 17  duration                 float64       \n",
      " 18  duration_group           category      \n",
      "dtypes: category(3), datetime64[ns](2), float64(5), int64(7), object(2)\n",
      "memory usage: 564.6+ MB\n"
     ]
    }
   ],
   "source": [
    "df.info()"
   ]
  },
  {
   "cell_type": "markdown",
   "metadata": {},
   "source": [
    "### Categorical Data Exploration\n",
    "\n",
    "#### start_station_xx fields\n",
    "\n",
    "It appears that a single `start_station_id` can have multiple `start_station_name`, `start_station_latitude` and `start_station_longitude`. This indicates that a station id can have multiple spots in the vicinity"
   ]
  },
  {
   "cell_type": "code",
   "execution_count": 19,
   "metadata": {},
   "outputs": [
    {
     "data": {
      "text/html": [
       "<div>\n",
       "<style scoped>\n",
       "    .dataframe tbody tr th:only-of-type {\n",
       "        vertical-align: middle;\n",
       "    }\n",
       "\n",
       "    .dataframe tbody tr th {\n",
       "        vertical-align: top;\n",
       "    }\n",
       "\n",
       "    .dataframe thead th {\n",
       "        text-align: right;\n",
       "    }\n",
       "</style>\n",
       "<table border=\"1\" class=\"dataframe\">\n",
       "  <thead>\n",
       "    <tr style=\"text-align: right;\">\n",
       "      <th></th>\n",
       "      <th>start_station_id</th>\n",
       "      <th>start_station_name</th>\n",
       "      <th>start_station_latitude</th>\n",
       "      <th>start_station_longitude</th>\n",
       "      <th>count</th>\n",
       "    </tr>\n",
       "  </thead>\n",
       "  <tbody>\n",
       "    <tr>\n",
       "      <th>23</th>\n",
       "      <td>25</td>\n",
       "      <td>Howard St at 2nd St</td>\n",
       "      <td>37.787522</td>\n",
       "      <td>-122.397405</td>\n",
       "      <td>13286</td>\n",
       "    </tr>\n",
       "    <tr>\n",
       "      <th>35</th>\n",
       "      <td>37</td>\n",
       "      <td>2nd St at Folsom St</td>\n",
       "      <td>37.785377</td>\n",
       "      <td>-122.396906</td>\n",
       "      <td>4815</td>\n",
       "    </tr>\n",
       "    <tr>\n",
       "      <th>36</th>\n",
       "      <td>37</td>\n",
       "      <td>Folsom St at 2nd St</td>\n",
       "      <td>37.785377</td>\n",
       "      <td>-122.396906</td>\n",
       "      <td>4388</td>\n",
       "    </tr>\n",
       "    <tr>\n",
       "      <th>77</th>\n",
       "      <td>80</td>\n",
       "      <td>Townsend St at 5th St</td>\n",
       "      <td>37.775306</td>\n",
       "      <td>-122.397380</td>\n",
       "      <td>9075</td>\n",
       "    </tr>\n",
       "    <tr>\n",
       "      <th>96</th>\n",
       "      <td>101</td>\n",
       "      <td>Potrero Ave at 15th St (Temporary Location)</td>\n",
       "      <td>37.766629</td>\n",
       "      <td>-122.407706</td>\n",
       "      <td>2537</td>\n",
       "    </tr>\n",
       "    <tr>\n",
       "      <th>97</th>\n",
       "      <td>101</td>\n",
       "      <td>San Bruno Ave at 16th St</td>\n",
       "      <td>37.766008</td>\n",
       "      <td>-122.405677</td>\n",
       "      <td>2445</td>\n",
       "    </tr>\n",
       "    <tr>\n",
       "      <th>123</th>\n",
       "      <td>130</td>\n",
       "      <td>22nd St Caltrain Station</td>\n",
       "      <td>37.757369</td>\n",
       "      <td>-122.392057</td>\n",
       "      <td>5810</td>\n",
       "    </tr>\n",
       "    <tr>\n",
       "      <th>124</th>\n",
       "      <td>130</td>\n",
       "      <td>22nd St Caltrain Station</td>\n",
       "      <td>37.757704</td>\n",
       "      <td>-122.391885</td>\n",
       "      <td>7198</td>\n",
       "    </tr>\n",
       "    <tr>\n",
       "      <th>125</th>\n",
       "      <td>130</td>\n",
       "      <td>22nd St Caltrain Station</td>\n",
       "      <td>37.757718</td>\n",
       "      <td>-122.391813</td>\n",
       "      <td>3009</td>\n",
       "    </tr>\n",
       "    <tr>\n",
       "      <th>165</th>\n",
       "      <td>173</td>\n",
       "      <td>Shattuck Ave at 55th St</td>\n",
       "      <td>37.840364</td>\n",
       "      <td>-122.264488</td>\n",
       "      <td>3655</td>\n",
       "    </tr>\n",
       "  </tbody>\n",
       "</table>\n",
       "</div>"
      ],
      "text/plain": [
       "     start_station_id                           start_station_name  \\\n",
       "23                 25                          Howard St at 2nd St   \n",
       "35                 37                          2nd St at Folsom St   \n",
       "36                 37                          Folsom St at 2nd St   \n",
       "77                 80                        Townsend St at 5th St   \n",
       "96                101  Potrero Ave at 15th St (Temporary Location)   \n",
       "97                101                     San Bruno Ave at 16th St   \n",
       "123               130                     22nd St Caltrain Station   \n",
       "124               130                     22nd St Caltrain Station   \n",
       "125               130                     22nd St Caltrain Station   \n",
       "165               173                      Shattuck Ave at 55th St   \n",
       "\n",
       "     start_station_latitude  start_station_longitude  count  \n",
       "23                37.787522              -122.397405  13286  \n",
       "35                37.785377              -122.396906   4815  \n",
       "36                37.785377              -122.396906   4388  \n",
       "77                37.775306              -122.397380   9075  \n",
       "96                37.766629              -122.407706   2537  \n",
       "97                37.766008              -122.405677   2445  \n",
       "123               37.757369              -122.392057   5810  \n",
       "124               37.757704              -122.391885   7198  \n",
       "125               37.757718              -122.391813   3009  \n",
       "165               37.840364              -122.264488   3655  "
      ]
     },
     "metadata": {},
     "output_type": "display_data"
    },
    {
     "data": {
      "text/html": [
       "<div>\n",
       "<style scoped>\n",
       "    .dataframe tbody tr th:only-of-type {\n",
       "        vertical-align: middle;\n",
       "    }\n",
       "\n",
       "    .dataframe tbody tr th {\n",
       "        vertical-align: top;\n",
       "    }\n",
       "\n",
       "    .dataframe thead th {\n",
       "        text-align: right;\n",
       "    }\n",
       "</style>\n",
       "<table border=\"1\" class=\"dataframe\">\n",
       "  <thead>\n",
       "    <tr style=\"text-align: right;\">\n",
       "      <th></th>\n",
       "      <th>start_station_id</th>\n",
       "      <th>start_station_name</th>\n",
       "      <th>start_station_latitude</th>\n",
       "      <th>start_station_longitude</th>\n",
       "      <th>count</th>\n",
       "    </tr>\n",
       "  </thead>\n",
       "  <tbody>\n",
       "    <tr>\n",
       "      <th>95</th>\n",
       "      <td>101</td>\n",
       "      <td>15th St at Potrero Ave</td>\n",
       "      <td>37.767079</td>\n",
       "      <td>-122.407359</td>\n",
       "      <td>8236</td>\n",
       "    </tr>\n",
       "    <tr>\n",
       "      <th>96</th>\n",
       "      <td>101</td>\n",
       "      <td>Potrero Ave at 15th St (Temporary Location)</td>\n",
       "      <td>37.766629</td>\n",
       "      <td>-122.407706</td>\n",
       "      <td>2537</td>\n",
       "    </tr>\n",
       "    <tr>\n",
       "      <th>97</th>\n",
       "      <td>101</td>\n",
       "      <td>San Bruno Ave at 16th St</td>\n",
       "      <td>37.766008</td>\n",
       "      <td>-122.405677</td>\n",
       "      <td>2445</td>\n",
       "    </tr>\n",
       "  </tbody>\n",
       "</table>\n",
       "</div>"
      ],
      "text/plain": [
       "    start_station_id                           start_station_name  \\\n",
       "95               101                       15th St at Potrero Ave   \n",
       "96               101  Potrero Ave at 15th St (Temporary Location)   \n",
       "97               101                     San Bruno Ave at 16th St   \n",
       "\n",
       "    start_station_latitude  start_station_longitude  count  \n",
       "95               37.767079              -122.407359   8236  \n",
       "96               37.766629              -122.407706   2537  \n",
       "97               37.766008              -122.405677   2445  "
      ]
     },
     "execution_count": 19,
     "metadata": {},
     "output_type": "execute_result"
    }
   ],
   "source": [
    "df_start_stations = df.groupby(\n",
    "    [\"start_station_id\", \"start_station_name\", \"start_station_latitude\", \"start_station_longitude\"]\n",
    ").size().reset_index().rename({0: \"count\"}, axis=1)\n",
    "\n",
    "display(df_start_stations[df_start_stations.duplicated(\"start_station_id\")].sort_values([\"start_station_id\"]).head(10))\n",
    "df_start_stations.query(\"start_station_id == 101\")"
   ]
  },
  {
   "cell_type": "markdown",
   "metadata": {},
   "source": [
    "#### end_station_xx fields\n",
    "\n",
    "It appears that a single `end_station_id` can have multiple `end_station_name`, `end_station_latitude` and `end_station_longitude`. This indicates that a station id can have multiple spots in the vicinity"
   ]
  },
  {
   "cell_type": "code",
   "execution_count": 20,
   "metadata": {},
   "outputs": [
    {
     "data": {
      "text/html": [
       "<div>\n",
       "<style scoped>\n",
       "    .dataframe tbody tr th:only-of-type {\n",
       "        vertical-align: middle;\n",
       "    }\n",
       "\n",
       "    .dataframe tbody tr th {\n",
       "        vertical-align: top;\n",
       "    }\n",
       "\n",
       "    .dataframe thead th {\n",
       "        text-align: right;\n",
       "    }\n",
       "</style>\n",
       "<table border=\"1\" class=\"dataframe\">\n",
       "  <thead>\n",
       "    <tr style=\"text-align: right;\">\n",
       "      <th></th>\n",
       "      <th>end_station_id</th>\n",
       "      <th>end_station_name</th>\n",
       "      <th>end_station_latitude</th>\n",
       "      <th>end_station_longitude</th>\n",
       "      <th>count</th>\n",
       "    </tr>\n",
       "  </thead>\n",
       "  <tbody>\n",
       "    <tr>\n",
       "      <th>23</th>\n",
       "      <td>25</td>\n",
       "      <td>Howard St at 2nd St</td>\n",
       "      <td>37.787522</td>\n",
       "      <td>-122.397405</td>\n",
       "      <td>12886</td>\n",
       "    </tr>\n",
       "    <tr>\n",
       "      <th>35</th>\n",
       "      <td>37</td>\n",
       "      <td>2nd St at Folsom St</td>\n",
       "      <td>37.785377</td>\n",
       "      <td>-122.396906</td>\n",
       "      <td>4274</td>\n",
       "    </tr>\n",
       "    <tr>\n",
       "      <th>36</th>\n",
       "      <td>37</td>\n",
       "      <td>Folsom St at 2nd St</td>\n",
       "      <td>37.785377</td>\n",
       "      <td>-122.396906</td>\n",
       "      <td>3558</td>\n",
       "    </tr>\n",
       "    <tr>\n",
       "      <th>77</th>\n",
       "      <td>80</td>\n",
       "      <td>Townsend St at 5th St</td>\n",
       "      <td>37.775306</td>\n",
       "      <td>-122.397380</td>\n",
       "      <td>7702</td>\n",
       "    </tr>\n",
       "    <tr>\n",
       "      <th>96</th>\n",
       "      <td>101</td>\n",
       "      <td>Potrero Ave at 15th St (Temporary Location)</td>\n",
       "      <td>37.766629</td>\n",
       "      <td>-122.407706</td>\n",
       "      <td>2597</td>\n",
       "    </tr>\n",
       "    <tr>\n",
       "      <th>97</th>\n",
       "      <td>101</td>\n",
       "      <td>San Bruno Ave at 16th St</td>\n",
       "      <td>37.766008</td>\n",
       "      <td>-122.405677</td>\n",
       "      <td>2433</td>\n",
       "    </tr>\n",
       "    <tr>\n",
       "      <th>123</th>\n",
       "      <td>130</td>\n",
       "      <td>22nd St Caltrain Station</td>\n",
       "      <td>37.757369</td>\n",
       "      <td>-122.392057</td>\n",
       "      <td>5797</td>\n",
       "    </tr>\n",
       "    <tr>\n",
       "      <th>124</th>\n",
       "      <td>130</td>\n",
       "      <td>22nd St Caltrain Station</td>\n",
       "      <td>37.757704</td>\n",
       "      <td>-122.391885</td>\n",
       "      <td>6401</td>\n",
       "    </tr>\n",
       "    <tr>\n",
       "      <th>125</th>\n",
       "      <td>130</td>\n",
       "      <td>22nd St Caltrain Station</td>\n",
       "      <td>37.757718</td>\n",
       "      <td>-122.391813</td>\n",
       "      <td>2977</td>\n",
       "    </tr>\n",
       "    <tr>\n",
       "      <th>165</th>\n",
       "      <td>173</td>\n",
       "      <td>Shattuck Ave at 55th St</td>\n",
       "      <td>37.840364</td>\n",
       "      <td>-122.264488</td>\n",
       "      <td>3514</td>\n",
       "    </tr>\n",
       "  </tbody>\n",
       "</table>\n",
       "</div>"
      ],
      "text/plain": [
       "     end_station_id                             end_station_name  \\\n",
       "23               25                          Howard St at 2nd St   \n",
       "35               37                          2nd St at Folsom St   \n",
       "36               37                          Folsom St at 2nd St   \n",
       "77               80                        Townsend St at 5th St   \n",
       "96              101  Potrero Ave at 15th St (Temporary Location)   \n",
       "97              101                     San Bruno Ave at 16th St   \n",
       "123             130                     22nd St Caltrain Station   \n",
       "124             130                     22nd St Caltrain Station   \n",
       "125             130                     22nd St Caltrain Station   \n",
       "165             173                      Shattuck Ave at 55th St   \n",
       "\n",
       "     end_station_latitude  end_station_longitude  count  \n",
       "23              37.787522            -122.397405  12886  \n",
       "35              37.785377            -122.396906   4274  \n",
       "36              37.785377            -122.396906   3558  \n",
       "77              37.775306            -122.397380   7702  \n",
       "96              37.766629            -122.407706   2597  \n",
       "97              37.766008            -122.405677   2433  \n",
       "123             37.757369            -122.392057   5797  \n",
       "124             37.757704            -122.391885   6401  \n",
       "125             37.757718            -122.391813   2977  \n",
       "165             37.840364            -122.264488   3514  "
      ]
     },
     "metadata": {},
     "output_type": "display_data"
    },
    {
     "data": {
      "text/html": [
       "<div>\n",
       "<style scoped>\n",
       "    .dataframe tbody tr th:only-of-type {\n",
       "        vertical-align: middle;\n",
       "    }\n",
       "\n",
       "    .dataframe tbody tr th {\n",
       "        vertical-align: top;\n",
       "    }\n",
       "\n",
       "    .dataframe thead th {\n",
       "        text-align: right;\n",
       "    }\n",
       "</style>\n",
       "<table border=\"1\" class=\"dataframe\">\n",
       "  <thead>\n",
       "    <tr style=\"text-align: right;\">\n",
       "      <th></th>\n",
       "      <th>end_station_id</th>\n",
       "      <th>end_station_name</th>\n",
       "      <th>end_station_latitude</th>\n",
       "      <th>end_station_longitude</th>\n",
       "      <th>count</th>\n",
       "    </tr>\n",
       "  </thead>\n",
       "  <tbody>\n",
       "    <tr>\n",
       "      <th>122</th>\n",
       "      <td>130</td>\n",
       "      <td>22nd St Caltrain Station</td>\n",
       "      <td>37.757288</td>\n",
       "      <td>-122.392051</td>\n",
       "      <td>4386</td>\n",
       "    </tr>\n",
       "    <tr>\n",
       "      <th>123</th>\n",
       "      <td>130</td>\n",
       "      <td>22nd St Caltrain Station</td>\n",
       "      <td>37.757369</td>\n",
       "      <td>-122.392057</td>\n",
       "      <td>5797</td>\n",
       "    </tr>\n",
       "    <tr>\n",
       "      <th>124</th>\n",
       "      <td>130</td>\n",
       "      <td>22nd St Caltrain Station</td>\n",
       "      <td>37.757704</td>\n",
       "      <td>-122.391885</td>\n",
       "      <td>6401</td>\n",
       "    </tr>\n",
       "    <tr>\n",
       "      <th>125</th>\n",
       "      <td>130</td>\n",
       "      <td>22nd St Caltrain Station</td>\n",
       "      <td>37.757718</td>\n",
       "      <td>-122.391813</td>\n",
       "      <td>2977</td>\n",
       "    </tr>\n",
       "  </tbody>\n",
       "</table>\n",
       "</div>"
      ],
      "text/plain": [
       "     end_station_id          end_station_name  end_station_latitude  \\\n",
       "122             130  22nd St Caltrain Station             37.757288   \n",
       "123             130  22nd St Caltrain Station             37.757369   \n",
       "124             130  22nd St Caltrain Station             37.757704   \n",
       "125             130  22nd St Caltrain Station             37.757718   \n",
       "\n",
       "     end_station_longitude  count  \n",
       "122            -122.392051   4386  \n",
       "123            -122.392057   5797  \n",
       "124            -122.391885   6401  \n",
       "125            -122.391813   2977  "
      ]
     },
     "execution_count": 20,
     "metadata": {},
     "output_type": "execute_result"
    }
   ],
   "source": [
    "df_end_stations = df.groupby(\n",
    "    [\"end_station_id\", \"end_station_name\", \"end_station_latitude\", \"end_station_longitude\"]\n",
    ").size().reset_index().rename({0: \"count\"}, axis=1)\n",
    "\n",
    "display(df_end_stations[df_end_stations.duplicated(\"end_station_id\")].sort_values([\"end_station_id\"]).head(10))\n",
    "df_end_stations.query(\"end_station_id == 130\")"
   ]
  },
  {
   "cell_type": "markdown",
   "metadata": {},
   "source": [
    "#### User Type\n",
    "\n",
    "The dataset identifies the users as Customer and Subscriber which differentiates between regular users and on-off users."
   ]
  },
  {
   "cell_type": "code",
   "execution_count": 21,
   "metadata": {},
   "outputs": [
    {
     "data": {
      "text/html": [
       "<div>\n",
       "<style scoped>\n",
       "    .dataframe tbody tr th:only-of-type {\n",
       "        vertical-align: middle;\n",
       "    }\n",
       "\n",
       "    .dataframe tbody tr th {\n",
       "        vertical-align: top;\n",
       "    }\n",
       "\n",
       "    .dataframe thead th {\n",
       "        text-align: right;\n",
       "    }\n",
       "</style>\n",
       "<table border=\"1\" class=\"dataframe\">\n",
       "  <thead>\n",
       "    <tr style=\"text-align: right;\">\n",
       "      <th></th>\n",
       "      <th>user_type</th>\n",
       "      <th>count</th>\n",
       "    </tr>\n",
       "  </thead>\n",
       "  <tbody>\n",
       "    <tr>\n",
       "      <th>0</th>\n",
       "      <td>Subscriber</td>\n",
       "      <td>3510033</td>\n",
       "    </tr>\n",
       "    <tr>\n",
       "      <th>1</th>\n",
       "      <td>Customer</td>\n",
       "      <td>749176</td>\n",
       "    </tr>\n",
       "  </tbody>\n",
       "</table>\n",
       "</div>"
      ],
      "text/plain": [
       "    user_type    count\n",
       "0  Subscriber  3510033\n",
       "1    Customer   749176"
      ]
     },
     "execution_count": 21,
     "metadata": {},
     "output_type": "execute_result"
    }
   ],
   "source": [
    "df_user_type = df.groupby(\n",
    "    [\"user_type\"]\n",
    ").size().reset_index().rename({0: \"count\"}, axis=1)\n",
    "\n",
    "df_user_type"
   ]
  },
  {
   "cell_type": "markdown",
   "metadata": {},
   "source": [
    "### What is the structure of your dataset?\n",
    "\n",
    "> The data set contains the following features in the data categories\n",
    "> - Quantitative\n",
    ">   1. Trip Duration (seconds)\n",
    ">   2. Trip Duration (minutes)  \n",
    ">   3. Start Time and Date\n",
    ">   4. End Time and Date\n",
    "> - Qualitative\n",
    ">   1. Start Station ID\n",
    ">   2. Start Station Name\n",
    ">   3. End Station ID\n",
    ">   4. End Station Name\n",
    ">   5. Bike ID\n",
    ">   6. User Type (Subscriber or Customer – “Subscriber” = Member or “Customer” = Casual)\n",
    ">   7. Year             \n",
    ">   8. Month               \n",
    ">   9. Day of Week            \n",
    ">   10. Hour     \n",
    ">   11. Duration Group\n",
    "### What is/are the main feature(s) of interest in your dataset?\n",
    "\n",
    "> The dataset contains the features that will enable us to study usage of the bikes in the following ares:\n",
    "> 1. Bike sharing usage duration by year\n",
    "> 2. Bike sharing usage duration by month\n",
    "> 3. Bike sharing usage duration by day of week\n",
    "> 4. Bike sharing usage duration by hour\n",
    "> 5. Bike sharing usage duration by user type\n",
    "\n",
    "### What features in the dataset do you think will help support your investigation into your feature(s) of interest?\n",
    "\n",
    "> Year, Month, Day of Week and Hour are generated columns that will allow different views into the period of usage\n",
    "> Duration provides a view into the length of usage\n",
    "> User type provides a view into how many are regular users\n",
    "> Start Station ID, Start Station Name, End Station ID and End Station Name provides a view into the geographic usage patterns"
   ]
  },
  {
   "cell_type": "markdown",
   "metadata": {},
   "source": [
    "## Univariate Exploration\n",
    "\n",
    "### Duration\n",
    "\n",
    "This distribution of usage in minutes `duration` appears to be concentrated in the range below 1 hours (60 minutes). The data also shows a long tail to the right of the histogram.\n",
    "\n",
    "interquartile range (IQL): Q3 - Q1 = 878 - 355 = 523"
   ]
  },
  {
   "cell_type": "code",
   "execution_count": 22,
   "metadata": {},
   "outputs": [
    {
     "name": "stdout",
     "output_type": "stream",
     "text": [
      "Duration min: 1.0, max 1439.4333333333334\n",
      "Percentage duration within 1 hour: 98.59802606540322\n"
     ]
    },
    {
     "data": {
      "text/plain": [
       "count    4.259209M\n",
       "mean     13.762788\n",
       "std      35.133553\n",
       "min       1.000000\n",
       "25%       5.916667\n",
       "50%       9.383333\n",
       "75%      14.633333\n",
       "max      1.439433k\n",
       "Name: duration, dtype: float64"
      ]
     },
     "metadata": {},
     "output_type": "display_data"
    },
    {
     "data": {
      "image/png": "[encoded data removed]",
      "text/plain": [
       "<Figure size 720x360 with 2 Axes>"
      ]
     },
     "metadata": {
      "needs_background": "light"
     },
     "output_type": "display_data"
    }
   ],
   "source": [
    "total_count = df.shape[0]\n",
    "print(f\"Duration min: {df.duration.min()}, max {df.duration.max()}\")\n",
    "print(\n",
    "    f\"Percentage duration within 1 hour: {df.query('duration <= 60').shape[0] / total_count * 100}\"\n",
    ")\n",
    "display(df.duration.describe())\n",
    "fig, (ax1, ax2)  = plt.subplots(\n",
    "    1, 2, figsize=(10, 5)\n",
    ")\n",
    "fig.tight_layout(pad=5)\n",
    "sb.distplot(\n",
    "    df[\"duration\"], bins=np.arange(0,df.duration.max() + 60, 60), ax=ax1, kde=False\n",
    ");\n",
    "ax1.set_xlabel(\"Usage duration (mins)\");\n",
    "sb.violinplot(data = df, x = 'duration', ax=ax2);\n",
    "ax2.set_xlabel(\"Usage duration (mins)\");"
   ]
  },
  {
   "cell_type": "markdown",
   "metadata": {},
   "source": [
    "#### Scaling Duration\n",
    "\n",
    "Performing a log scale operation on `duration_sec` produces a distribution that is closer to a normal distribution. But the long tail on the right still exists and it contains about 0.56% of the usage population."
   ]
  },
  {
   "cell_type": "code",
   "execution_count": 23,
   "metadata": {},
   "outputs": [
    {
     "name": "stdout",
     "output_type": "stream",
     "text": [
      "Percentage duration more 2 hour: 0.5642831802806577\n"
     ]
    },
    {
     "data": {
      "image/png": "[encoded data removed]",
      "text/plain": [
       "<Figure size 576x360 with 1 Axes>"
      ]
     },
     "metadata": {
      "needs_background": "light"
     },
     "output_type": "display_data"
    }
   ],
   "source": [
    "print(\n",
    "    f\"Percentage duration more 2 hour: {df.query('duration > 120').shape[0] / total_count * 100}\"\n",
    ")\n",
    "\n",
    "scaled_duration = {\n",
    "    \"bins\": 10 ** np.arange(\n",
    "        0, np.log10(df[\"duration\"].max()) + 0.1, 0.1\n",
    "    ),\n",
    "    \"bin_ticks\": [1, 2, 5, 10, 20, 50, 100, 200], \n",
    "    \"bin_labels\": [1, 2, 5, 10, 20, 50, 100, 200],\n",
    "    \"scale\": \"log\"\n",
    "}\n",
    "\n",
    "plt.figure(figsize=[8, 5]);\n",
    "plt.hist(data = df, x = \"duration\", bins = scaled_duration[\"bins\"]);\n",
    "plt.xscale(scaled_duration[\"scale\"]);\n",
    "plt.xticks(scaled_duration[\"bin_ticks\"], scaled_duration[\"bin_labels\"], rotation=30);\n",
    "plt.xlabel('Usage Duration (mins)');\n",
    "plt.axvline(df.duration.median(), color='r', label='Median');\n",
    "plt.axvline(df.duration.mean(), color='g', label='Mean');"
   ]
  },
  {
   "cell_type": "markdown",
   "metadata": {},
   "source": [
    "#### Remove Duration Outliers\n",
    "\n",
    "In this study we will remove the outliers"
   ]
  },
  {
   "cell_type": "code",
   "execution_count": 24,
   "metadata": {},
   "outputs": [
    {
     "data": {
      "image/png": "[encoded data removed]",
      "text/plain": [
       "<Figure size 576x360 with 1 Axes>"
      ]
     },
     "metadata": {
      "needs_background": "light"
     },
     "output_type": "display_data"
    }
   ],
   "source": [
    "df = df.query('duration <= 7200')\n",
    "\n",
    "scaled_duration = {\n",
    "    \"bins\": 10 ** np.arange(\n",
    "        0, np.log10(df[\"duration\"].max()) + 0.1, 0.1\n",
    "    ),\n",
    "    \"bin_ticks\": [1, 2, 5, 10, 20, 50, 100, 200], \n",
    "    \"bin_labels\": [1, 2, 5, 10, 20, 50, 100, 200],\n",
    "    \"scale\": \"log\"\n",
    "}\n",
    "\n",
    "plt.figure(figsize=[8, 5]);\n",
    "plt.hist(data = df, x = \"duration\", bins = scaled_duration[\"bins\"]);\n",
    "plt.xscale(scaled_duration[\"scale\"]);\n",
    "plt.xticks(scaled_duration[\"bin_ticks\"], scaled_duration[\"bin_labels\"], rotation=30);\n",
    "plt.xlabel('Usage Duration (mins)');\n",
    "plt.axvline(df.duration.median(), color='r', label='Median');\n",
    "plt.axvline(df.duration.mean(), color='g', label='Mean');"
   ]
  },
  {
   "cell_type": "markdown",
   "metadata": {},
   "source": [
    "### Hour\n",
    "\n",
    "An analysis of the usage by the hour shows the usage to be bimodal with the majority of the usage occurring in the time from 6:00 to 23:00. The usage has 2 peaks during 7:00 - 9:00 and 16:00 - 19:00 which is pretty close to the peak hours listed on the [City and County of San Francisco site](https://sfgov.org/scorecards/transportation/congestion) as AM peak 7:00 a.m. - 9:00 a.m., and PM peak as 4:30 p.m. - 6:30 p.m."
   ]
  },
  {
   "cell_type": "code",
   "execution_count": 25,
   "metadata": {
    "scrolled": true
   },
   "outputs": [
    {
     "data": {
      "image/png": "[encoded data removed]",
      "text/plain": [
       "<Figure size 432x288 with 1 Axes>"
      ]
     },
     "metadata": {
      "needs_background": "light"
     },
     "output_type": "display_data"
    }
   ],
   "source": [
    "ax = sb.countplot(data= df, x=\"hour\", color=plot_color);\n",
    "ax.set_xlabel(\"Hour\");\n",
    "ax.set_title(\"Usage count by hour\");"
   ]
  },
  {
   "cell_type": "markdown",
   "metadata": {},
   "source": [
    "### Start Day Of Week\n",
    "\n",
    "An analysis of the usage by day of week of shows the usage to be higher on the weekdays from Monday to Friday."
   ]
  },
  {
   "cell_type": "code",
   "execution_count": 26,
   "metadata": {
    "scrolled": true
   },
   "outputs": [
    {
     "data": {
      "image/png": "[encoded data removed]",
      "text/plain": [
       "<Figure size 432x288 with 1 Axes>"
      ]
     },
     "metadata": {
      "needs_background": "light"
     },
     "output_type": "display_data"
    }
   ],
   "source": [
    "ax = sb.countplot(data= df, x=\"day_of_week\", color=plot_color);\n",
    "ax.set_xticklabels(ax.get_xticklabels(), rotation=30);\n",
    "ax.set_xlabel(\"Day of week\");\n",
    "ax.set_title(\"Usage count by day of week\");"
   ]
  },
  {
   "cell_type": "markdown",
   "metadata": {},
   "source": [
    "### Month\n",
    "\n",
    "An analysis of the usage by month of shows the usage to be consistent throughout the months with the start of the year Jan - Feb and end of year Nov - Dec having lower usage."
   ]
  },
  {
   "cell_type": "code",
   "execution_count": 27,
   "metadata": {
    "scrolled": false
   },
   "outputs": [
    {
     "data": {
      "image/png": "[encoded data removed]",
      "text/plain": [
       "<Figure size 432x288 with 1 Axes>"
      ]
     },
     "metadata": {
      "needs_background": "light"
     },
     "output_type": "display_data"
    }
   ],
   "source": [
    "ax = sb.countplot(data= df, x=\"month\", color=plot_color);\n",
    "ax.set_xlabel(\"month\");\n",
    "ax.set_title(\"Usage count by month\");"
   ]
  },
  {
   "cell_type": "markdown",
   "metadata": {},
   "source": [
    "### Year\n",
    "\n",
    "An analysis of the usage by year of shows an increas in usage in 2019 compared to 2018."
   ]
  },
  {
   "cell_type": "code",
   "execution_count": 28,
   "metadata": {
    "scrolled": true
   },
   "outputs": [
    {
     "data": {
      "image/png": "[encoded data removed]",
      "text/plain": [
       "<Figure size 432x288 with 1 Axes>"
      ]
     },
     "metadata": {
      "needs_background": "light"
     },
     "output_type": "display_data"
    }
   ],
   "source": [
    "ax = sb.countplot(data= df, x=\"year\", color=plot_color);\n",
    "ax.set_xlabel(\"Year\");\n",
    "ax.set_title(\"Usage count by year\");"
   ]
  },
  {
   "cell_type": "markdown",
   "metadata": {},
   "source": [
    "### User Type\n",
    "\n",
    "An analysis of the user type shows a high bias to Subscribers compared to Customers"
   ]
  },
  {
   "cell_type": "code",
   "execution_count": 29,
   "metadata": {
    "scrolled": true
   },
   "outputs": [
    {
     "data": {
      "image/png": "[encoded data removed]",
      "text/plain": [
       "<Figure size 432x288 with 1 Axes>"
      ]
     },
     "metadata": {
      "needs_background": "light"
     },
     "output_type": "display_data"
    }
   ],
   "source": [
    "ax = sb.countplot(data= df, x=\"user_type\", color=plot_color);\n",
    "ax.set_xlabel(\"User type\");\n",
    "ax.set_title(\"Usage count by user type\");"
   ]
  },
  {
   "cell_type": "markdown",
   "metadata": {},
   "source": [
    "## Bivariate Exploration\n",
    "\n",
    "> In this section, investigate relationships between pairs of variables in your\n",
    "data.\n",
    "\n",
    "### Year by user type\n",
    "\n",
    "The usage of the rider sharing service shows increases for both the Subscriber and Customer Types."
   ]
  },
  {
   "cell_type": "code",
   "execution_count": 30,
   "metadata": {
    "scrolled": true
   },
   "outputs": [
    {
     "data": {
      "image/png": "[encoded data removed]",
      "text/plain": [
       "<Figure size 576x360 with 1 Axes>"
      ]
     },
     "metadata": {
      "needs_background": "light"
     },
     "output_type": "display_data"
    }
   ],
   "source": [
    "plt.figure(figsize=(8,5))\n",
    "sb.countplot(data=df, x=\"year\", hue=\"user_type\");\n",
    "plt.xlabel(\"Year\");\n",
    "plt.ylabel(\"Count\");\n",
    "plt.legend(title=\"User Type\");"
   ]
  },
  {
   "cell_type": "markdown",
   "metadata": {},
   "source": [
    "### Ride Duration by hour\n",
    "\n",
    "Looking into the average ride duration on the hour, there is an interesting observation that the duration increases during the midnight 0:00 - 4:00 in the early morning. "
   ]
  },
  {
   "cell_type": "code",
   "execution_count": 31,
   "metadata": {},
   "outputs": [
    {
     "data": {
      "text/plain": [
       "(0, 40)"
      ]
     },
     "execution_count": 31,
     "metadata": {},
     "output_type": "execute_result"
    },
    {
     "data": {
      "image/png": "[encoded data removed]",
      "text/plain": [
       "<Figure size 720x288 with 1 Axes>"
      ]
     },
     "metadata": {
      "needs_background": "light"
     },
     "output_type": "display_data"
    }
   ],
   "source": [
    "df.groupby('hour').duration.mean().reset_index().plot(\n",
    "    x='hour', y='duration', kind='bar', color=plot_color, legend=False, figsize=(10,4)\n",
    ")\n",
    "plt.xticks(rotation = 15);\n",
    "plt.ylim(0,40)"
   ]
  },
  {
   "cell_type": "markdown",
   "metadata": {},
   "source": [
    "### Ride Duration by day of week\n",
    "\n",
    "Looking into the average ride duration by the day of the week, there is an interesting observation that the duration increases during the weekends compared to the weekdays. "
   ]
  },
  {
   "cell_type": "code",
   "execution_count": 32,
   "metadata": {},
   "outputs": [
    {
     "data": {
      "image/png": "[encoded data removed]",
      "text/plain": [
       "<Figure size 720x288 with 1 Axes>"
      ]
     },
     "metadata": {
      "needs_background": "light"
     },
     "output_type": "display_data"
    }
   ],
   "source": [
    "df.groupby('day_of_week').duration.mean().reset_index().plot(\n",
    "    x='day_of_week', y='duration', kind='bar', color=plot_color, legend=False, figsize=(10,4)\n",
    ")\n",
    "plt.xticks(rotation = 15);\n",
    "plt.ylim(0,25);"
   ]
  },
  {
   "cell_type": "markdown",
   "metadata": {},
   "source": [
    "### Ride Duration by month\n",
    "\n",
    "The ride duration does not appear to differ by the month"
   ]
  },
  {
   "cell_type": "code",
   "execution_count": 33,
   "metadata": {
    "scrolled": true
   },
   "outputs": [
    {
     "data": {
      "image/png": "[encoded data removed]",
      "text/plain": [
       "<Figure size 864x432 with 1 Axes>"
      ]
     },
     "metadata": {
      "needs_background": "light"
     },
     "output_type": "display_data"
    }
   ],
   "source": [
    "plt.figure(figsize = (12,6))\n",
    "sb.violinplot(data = df, x = 'month', y = 'duration', color = plot_color)\n",
    "plt.ylim(0,120);"
   ]
  },
  {
   "cell_type": "markdown",
   "metadata": {},
   "source": [
    "### Ride Duration by year\n",
    "\n",
    "The ride duration does not appear to differ by the year"
   ]
  },
  {
   "cell_type": "code",
   "execution_count": 34,
   "metadata": {
    "scrolled": true
   },
   "outputs": [
    {
     "data": {
      "image/png": "[encoded data removed]",
      "text/plain": [
       "<Figure size 864x432 with 1 Axes>"
      ]
     },
     "metadata": {
      "needs_background": "light"
     },
     "output_type": "display_data"
    }
   ],
   "source": [
    "plt.figure(figsize = (12,6))\n",
    "sb.violinplot(data = df, x = 'year', y = 'duration', color = plot_color)\n",
    "plt.ylim(0,120);"
   ]
  },
  {
   "cell_type": "markdown",
   "metadata": {},
   "source": [
    "### Ride Duration by User Type\n",
    "\n",
    "Looking into the average ride duration on the hour, there is an interesting observation that the duration increases during the midnight 0:00 - 4:00 in the early morning. "
   ]
  },
  {
   "cell_type": "code",
   "execution_count": 35,
   "metadata": {},
   "outputs": [
    {
     "data": {
      "text/plain": [
       "(0, 40)"
      ]
     },
     "execution_count": 35,
     "metadata": {},
     "output_type": "execute_result"
    },
    {
     "data": {
      "image/png": "[encoded data removed]",
      "text/plain": [
       "<Figure size 720x288 with 1 Axes>"
      ]
     },
     "metadata": {
      "needs_background": "light"
     },
     "output_type": "display_data"
    }
   ],
   "source": [
    "df.groupby('user_type').duration.mean().reset_index().plot(\n",
    "    x='user_type', y='duration', kind='bar', color=plot_color, legend=False, figsize=(10,4)\n",
    ")\n",
    "plt.xticks(rotation = 15);\n",
    "plt.ylim(0,40)"
   ]
  },
  {
   "cell_type": "markdown",
   "metadata": {},
   "source": [
    "### Ride Duration Groups By Day of Week\n",
    "\n",
    "It appears that the majority of the usage is centered around 5 to 20 minutes, this shows that the majority of the bike trips tend to be short ones."
   ]
  },
  {
   "cell_type": "code",
   "execution_count": 36,
   "metadata": {},
   "outputs": [
    {
     "data": {
      "image/png": "[encoded data removed]",
      "text/plain": [
       "<Figure size 1440x720 with 1 Axes>"
      ]
     },
     "metadata": {
      "needs_background": "light"
     },
     "output_type": "display_data"
    }
   ],
   "source": [
    "plt.figure(figsize=(20, 10))\n",
    "ax = sb.countplot(data = df, x = 'day_of_week', hue = 'duration_group')\n",
    "ax.legend(loc = 4, framealpha = 1) # lower right, no transparency\n",
    "plt.xticks(rotation = 30);"
   ]
  },
  {
   "cell_type": "markdown",
   "metadata": {},
   "source": [
    "## Multivariate Exploration\n",
    "\n",
    "> Plotting of three or more variables to investigate your data following previous observations\n",
    "\n",
    "### Hourly Usage By Day of Week By Year\n",
    "\n",
    "In the previous observations usage was observed to be bias towards the peak hours during the weekdays. A futher analysis was carried out and adding in different features like the year shows the same reason. This provides strong evidences that the use of ride sharing services might be used for commuting to work."
   ]
  },
  {
   "cell_type": "code",
   "execution_count": 37,
   "metadata": {},
   "outputs": [
    {
     "data": {
      "image/png": "[encoded data removed]",
      "text/plain": [
       "<Figure size 1440x720 with 4 Axes>"
      ]
     },
     "metadata": {
      "needs_background": "light"
     },
     "output_type": "display_data"
    }
   ],
   "source": [
    "df_2018 = get_day_of_week_hour_count_for_dataframe(df.query(\"year == 2018\"))\n",
    "df_2019 = get_day_of_week_hour_count_for_dataframe(df.query(\"year == 2019\"))\n",
    "fig, (ax1, ax2) = plt.subplots(\n",
    "    2, 1, figsize=(20, 10)\n",
    ")\n",
    "plt.suptitle(\"Hourly Usage during day of week for 2018 and 2019\", fontsize = 18)\n",
    "set_heatmap(ax1, df_2018, \"2018\", \"Hour of Day\", \"Day of Week\")\n",
    "set_heatmap(ax2, df_2019, \"2019\", \"Hour of Day\", \"Day of Week\")"
   ]
  },
  {
   "cell_type": "markdown",
   "metadata": {},
   "source": [
    "### Mean Duration By Hour and Year and Usage Count By Hour and Year\n",
    "\n",
    "It appears that mean duration by hour is reduced comparing 2018 to 2019 although usage count has actually increased in using the same features. Another intersting fact is although the average duration is a lot higher during the non commuting hours from 0:00 - 4:00, the average duration comes from low usage counts in the same hours. While the average duration is alot lower during the commuting hours the usage count is actually much higher."
   ]
  },
  {
   "cell_type": "code",
   "execution_count": 38,
   "metadata": {},
   "outputs": [
    {
     "data": {
      "image/png": "[encoded data removed]",
      "text/plain": [
       "<Figure size 1440x720 with 2 Axes>"
      ]
     },
     "metadata": {
      "needs_background": "light"
     },
     "output_type": "display_data"
    }
   ],
   "source": [
    "def set_barplot_by_hour_year(ax, data, title, xlabel, ylabel):\n",
    "    \"\"\"Function to create a barplot by hour year.\n",
    "\n",
    "    Arguments:\n",
    "    ax -- Axes to plot\n",
    "    data -- data source to be plotted\n",
    "    title -- title of the plot\n",
    "    xlabel -- label for x axis of plot\n",
    "    ylabel -- label for y axis of plot\n",
    "    \"\"\"\n",
    "    sb.barplot( \n",
    "        data=df.groupby(['year', 'hour']).duration.mean().reset_index(), \n",
    "        x=\"hour\", y=\"duration\", hue=\"year\", ax=ax\n",
    "    )    \n",
    "    ax.set_title(title, loc='right', fontsize = 16);\n",
    "    ax.set_xlabel(xlabel, fontsize = 14);\n",
    "    ax.set_ylabel(ylabel, fontsize = 14);\n",
    "\n",
    "fig, (ax1, ax2) = plt.subplots(\n",
    "    2, 1, figsize=(20, 10)\n",
    ")\n",
    "fig.tight_layout(pad=5)\n",
    "\n",
    "sb.barplot( \n",
    "    data=df.groupby(['year', 'hour']).duration.mean().reset_index(), \n",
    "    x=\"hour\", y=\"duration\", hue=\"year\", ax=ax1\n",
    ")\n",
    "ax1.set_xlabel('Hour of Day', fontsize=14);\n",
    "ax1.set_ylabel('Mean Duration (mins)', fontsize=14);\n",
    "ax1.set_title('Mean Duration (mins) by Hour and Year', fontsize=16);\n",
    "\n",
    "sb.countplot( \n",
    "    data=df, \n",
    "    x=\"hour\", hue=\"year\", ax=ax2\n",
    ")\n",
    "ax2.set_xlabel('Hour of Day', fontsize=14);\n",
    "ax2.set_ylabel('Duration Count', fontsize=14);\n",
    "ax2.set_title('Duration Count by Hour and Year', fontsize=16);"
   ]
  },
  {
   "cell_type": "markdown",
   "metadata": {},
   "source": [
    "### Hourly Usage By Day of Week By User Type\n",
    "\n",
    "Performing the Heatmap analysis of the hourly usage by day of week and user type shows similar heavy usage during the peak hours. It also displays another use by the Customer user types. Customer user types also shows heavy usage during the weekends (Saturday and Sunday) from 9:00 to 18:00. This is on top of the heavy usage in the during the weekday peak hours. Although subscribers contain a higher percentage of the population data compared to the customers."
   ]
  },
  {
   "cell_type": "code",
   "execution_count": 39,
   "metadata": {},
   "outputs": [
    {
     "data": {
      "image/png": "[encoded data removed]",
      "text/plain": [
       "<Figure size 1440x720 with 4 Axes>"
      ]
     },
     "metadata": {
      "needs_background": "light"
     },
     "output_type": "display_data"
    }
   ],
   "source": [
    "df_subscriber = get_day_of_week_hour_count_for_dataframe(df.query(\"user_type == 'Subscriber'\"))\n",
    "df_customer = get_day_of_week_hour_count_for_dataframe(df.query(\"user_type == 'Customer'\"))\n",
    "fig, (ax1, ax2) = plt.subplots(\n",
    "    2, 1, figsize=(20, 10)\n",
    ")\n",
    "plt.suptitle(\"Hourly Usage during day of week for Subscriber and Customer\", fontsize = 18)\n",
    "set_heatmap(ax1, df_subscriber, \"Subscriber\", \"Hour of Day\", \"Day of Week\")\n",
    "set_heatmap(ax2, df_customer, \"Customer\", \"Hour of Day\", \"Day of Week\")"
   ]
  },
  {
   "cell_type": "markdown",
   "metadata": {},
   "source": [
    "### Mean Duration By Hour and User Type and Usage Count By Hour and Usage Type\n",
    "\n",
    "Performing the Mean Duration and Usage Count analysis on the usage type presented an interesting view. As expected usage count is heavily tilted towards the subscribers. Although customers tend to make trips that have higher duration compared to the subscribers."
   ]
  },
  {
   "cell_type": "code",
   "execution_count": 40,
   "metadata": {},
   "outputs": [
    {
     "data": {
      "image/png": "[encoded data removed]",
      "text/plain": [
       "<Figure size 1440x720 with 2 Axes>"
      ]
     },
     "metadata": {
      "needs_background": "light"
     },
     "output_type": "display_data"
    }
   ],
   "source": [
    "fig, (ax1, ax2) = plt.subplots(\n",
    "    2, 1, figsize=(20, 10)\n",
    ")\n",
    "fig.tight_layout(pad=5)\n",
    "\n",
    "sb.barplot( \n",
    "    data=df.groupby(['user_type', 'hour']).duration.mean().reset_index(), \n",
    "    x=\"hour\", y=\"duration\", hue=\"user_type\", ax=ax1\n",
    ")\n",
    "ax1.set_xlabel('Hour of Day', fontsize=14);\n",
    "ax1.set_ylabel('Mean Duration (mins)', fontsize=14);\n",
    "ax1.set_title('Mean Duration (mins) by Hour and Year', fontsize=16);\n",
    "\n",
    "sb.countplot( \n",
    "    data=df, \n",
    "    x=\"hour\", hue=\"user_type\", ax=ax2\n",
    ")\n",
    "ax2.set_xlabel('Hour of Day', fontsize=14);\n",
    "ax2.set_ylabel('Duration Count', fontsize=14);\n",
    "ax2.set_title('Duration Count by Hour and Year', fontsize=16);"
   ]
  },
  {
   "cell_type": "markdown",
   "metadata": {},
   "source": [
    "### Talk about some of the relationships you observed in this part of the investigation. Were there features that strengthened each other in terms of looking at your feature(s) of interest?\n",
    "\n",
    "> In this investigation we look into the Ford GoBike System that shows relationships between the usage behaviour in relation to the day of the week, time of the day and also the duration of usage. \n",
    "\n",
    "###  Interesting or surprising interactions between features?\n",
    "\n",
    "> * Peak hours in Weekdays (7:00 - 9:00 and 16:00 - 19:00) display a high amount of usage \n",
    "> * Customer user types also uses the system during the day time on the Weekends.\n",
    "> * Customer user types tend to make trips with longer durations.\n",
    "> * Usage patterns appear to be very consistent across 2018 and 2019 except for durations\n",
    "> * 2018 usage durations tend to be longer although 2019 has higher usage counts."
   ]
  },
  {
   "cell_type": "markdown",
   "metadata": {},
   "source": [
    "#### Persist datasource for easier use during reporting"
   ]
  },
  {
   "cell_type": "code",
   "execution_count": 41,
   "metadata": {},
   "outputs": [],
   "source": [
    "df.to_csv(\"report_source.csv\", index=False)"
   ]
  },
  {
   "cell_type": "code",
   "execution_count": null,
   "metadata": {},
   "outputs": [],
   "source": []
  }
 ],
 "metadata": {
  "kernelspec": {
   "display_name": "Python 3",
   "language": "python",
   "name": "python3"
  },
  "language_info": {
   "codemirror_mode": {
    "name": "ipython",
    "version": 3
   },
   "file_extension": ".py",
   "mimetype": "text/x-python",
   "name": "python",
   "nbconvert_exporter": "python",
   "pygments_lexer": "ipython3",
   "version": "3.7.7"
  }
 },
 "nbformat": 4,
 "nbformat_minor": 2
}
